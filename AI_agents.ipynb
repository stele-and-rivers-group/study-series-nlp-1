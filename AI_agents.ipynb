{
  "nbformat": 4,
  "nbformat_minor": 0,
  "metadata": {
    "colab": {
      "provenance": [],
      "include_colab_link": true
    },
    "kernelspec": {
      "name": "python3",
      "display_name": "Python 3"
    },
    "language_info": {
      "name": "python"
    }
  },
  "cells": [
    {
      "cell_type": "markdown",
      "metadata": {
        "id": "view-in-github",
        "colab_type": "text"
      },
      "source": [
        "<a href=\"https://colab.research.google.com/github/stele-and-rivers-001/temp/blob/main/AI_agents.ipynb\" target=\"_parent\"><img src=\"https://colab.research.google.com/assets/colab-badge.svg\" alt=\"Open In Colab\"/></a>"
      ]
    },
    {
      "cell_type": "markdown",
      "source": [
        "## Introduction"
      ],
      "metadata": {
        "id": "CJ8cuUnuNzab"
      }
    },
    {
      "cell_type": "markdown",
      "source": [
        "In the previous study, we looked at popular chat bot models, including OpenAI's GPT series. We explored some basics of *prompt engineering* to improve model performance, but now we will take it a step further. **AI agents** are entities, typically software programs, designed to act autonomously within an environment to achieve certain objectives. These agents utilize artificial intelligence techniques to perceive their environment, make decisions, and take actions to accomplish their goals. Think of it this way: When you ask GPT to write an essay, it works linearly from start to finish. This leaves no room for review, error correction or improvement. Agents can help by reviewing the essay for errors, allowing the model to access outside tools such as web pages or documents, and create an environment where the model can learn and improve as it goes. While anyone can ask ChatGPT questions, programmers can utilize agents to optimize performance beyond what was previously imaginable.\n",
        "\n",
        "Here we will deep dive into GPT's popular agent system *Assistants*. Using agents can be quite costly as we will see the inputs, tools and resources all count as tokens towards usage. The entire thread of conversation is input for every new user message, which can amplify costs further. In order to save costs, we will only explore assistants with the GPT-3.5 model. For reference, this model scored a 90.5% accuracy in the previous study by simply prompting the model to categorize each job title into its respective industry. Let's see how much of an improvement assistants offer in this scenario.\n",
        "\n",
        "See more in the OpenAI Assistants documentation:\n",
        "https://platform.openai.com/docs/assistants/overview"
      ],
      "metadata": {
        "id": "W2C971I3CTHs"
      }
    },
    {
      "cell_type": "markdown",
      "source": [
        "![diagram-assistant.webp](data:image/webp;base64,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)"
      ],
      "metadata": {
        "id": "E0GJFSE3DVqT"
      }
    },
    {
      "cell_type": "markdown",
      "source": [
        "- *Thread:* A conversation session between an Assistant and a user. Threads store Messages and automatically handle truncation to fit content into a model’s context.\n",
        "- *Message:* A message created by an Assistant or a user. Messages can include text, images, and other files. Messages stored as a list on the Thread.\n",
        "- *Run:* An invocation of an Assistant on a Thread. The Assistant uses its configuration and the Thread’s Messages to perform tasks by calling models and tools. As part of a Run, the Assistant appends Messages to the Thread.\n",
        "- *Run Steps:* A detailed list of steps the Assistant took as part of a Run. An Assistant can call tools or create Messages during its run. Examining Run Steps allows you to introspect how the Assistant is getting to its final results.\n"
      ],
      "metadata": {
        "id": "zHNNUteoD98x"
      }
    },
    {
      "cell_type": "markdown",
      "source": [
        "## Install libraries and import data"
      ],
      "metadata": {
        "id": "HFNcef_4URyQ"
      }
    },
    {
      "cell_type": "code",
      "source": [
        "!pip install -Uqq openai\n",
        "!pip install -Uqq pymupdf\n",
        "!pip install -Uqq matplotlib"
      ],
      "metadata": {
        "id": "XIZwSLCZqSEM",
        "colab": {
          "base_uri": "https://localhost:8080/"
        },
        "outputId": "f28fc89e-1efb-4127-fceb-5c375706532e"
      },
      "execution_count": null,
      "outputs": [
        {
          "output_type": "stream",
          "name": "stdout",
          "text": [
            "\u001b[2K     \u001b[90m━━━━━━━━━━━━━━━━━━━━━━━━━━━━━━━━━━━━━━━━\u001b[0m \u001b[32m8.3/8.3 MB\u001b[0m \u001b[31m22.0 MB/s\u001b[0m eta \u001b[36m0:00:00\u001b[0m\n",
            "\u001b[?25h"
          ]
        }
      ]
    },
    {
      "cell_type": "code",
      "source": [
        "import base64\n",
        "import os\n",
        "from enum import Enum\n",
        "from io import BytesIO\n",
        "from typing import Iterable\n",
        "from typing import List\n",
        "from typing import Literal, Optional\n",
        "import fitz\n",
        "import matplotlib.pyplot as plt\n",
        "import pandas as pd\n",
        "from IPython.display import display\n",
        "from PIL import Image\n",
        "import openai\n",
        "from openai import OpenAI\n",
        "from pydantic import BaseModel, Field\n",
        "from google.colab import drive, files\n",
        "import shutil\n",
        "from pathlib import Path\n",
        "import json\n",
        "import time"
      ],
      "metadata": {
        "id": "IRC3PCc0bd_q"
      },
      "execution_count": null,
      "outputs": []
    },
    {
      "cell_type": "code",
      "source": [
        "## mount google drive and import files to directory\n",
        "drive.mount('/content/drive')"
      ],
      "metadata": {
        "id": "FmOvPUlJzwnx"
      },
      "execution_count": null,
      "outputs": []
    },
    {
      "cell_type": "markdown",
      "source": [
        "Import test data. This method does not require a training dataset as we are directly asking the chat model to categorize the data.\n",
        "\n",
        "You can access the test data here:\n",
        "\n",
        "https://drive.google.com/drive/folders/1tvp3-vZrcSRIuiMclQWnN-9f8nTGrexb?usp=drive_link"
      ],
      "metadata": {
        "id": "XMpW0eB7ZxzS"
      }
    },
    {
      "cell_type": "markdown",
      "source": [
        "You'll need an API key to access the OpenAI models. The below code can be used for uploading and reading a file with your API key(s), but you can also use the Google Colab secrets panel."
      ],
      "metadata": {
        "id": "9e9wveL8Z_GH"
      }
    },
    {
      "cell_type": "code",
      "source": [
        "uploaded = files.upload()"
      ],
      "metadata": {
        "colab": {
          "base_uri": "https://localhost:8080/",
          "height": 73
        },
        "id": "-2-Ex_F77cZO",
        "outputId": "c80e4312-de9b-4b9f-b31c-ded43dba82e8"
      },
      "execution_count": null,
      "outputs": [
        {
          "output_type": "display_data",
          "data": {
            "text/plain": [
              "<IPython.core.display.HTML object>"
            ],
            "text/html": [
              "\n",
              "     <input type=\"file\" id=\"files-33c17d0b-7388-4e98-815b-69f709ee11ed\" name=\"files[]\" multiple disabled\n",
              "        style=\"border:none\" />\n",
              "     <output id=\"result-33c17d0b-7388-4e98-815b-69f709ee11ed\">\n",
              "      Upload widget is only available when the cell has been executed in the\n",
              "      current browser session. Please rerun this cell to enable.\n",
              "      </output>\n",
              "      <script>// Copyright 2017 Google LLC\n",
              "//\n",
              "// Licensed under the Apache License, Version 2.0 (the \"License\");\n",
              "// you may not use this file except in compliance with the License.\n",
              "// You may obtain a copy of the License at\n",
              "//\n",
              "//      http://www.apache.org/licenses/LICENSE-2.0\n",
              "//\n",
              "// Unless required by applicable law or agreed to in writing, software\n",
              "// distributed under the License is distributed on an \"AS IS\" BASIS,\n",
              "// WITHOUT WARRANTIES OR CONDITIONS OF ANY KIND, either express or implied.\n",
              "// See the License for the specific language governing permissions and\n",
              "// limitations under the License.\n",
              "\n",
              "/**\n",
              " * @fileoverview Helpers for google.colab Python module.\n",
              " */\n",
              "(function(scope) {\n",
              "function span(text, styleAttributes = {}) {\n",
              "  const element = document.createElement('span');\n",
              "  element.textContent = text;\n",
              "  for (const key of Object.keys(styleAttributes)) {\n",
              "    element.style[key] = styleAttributes[key];\n",
              "  }\n",
              "  return element;\n",
              "}\n",
              "\n",
              "// Max number of bytes which will be uploaded at a time.\n",
              "const MAX_PAYLOAD_SIZE = 100 * 1024;\n",
              "\n",
              "function _uploadFiles(inputId, outputId) {\n",
              "  const steps = uploadFilesStep(inputId, outputId);\n",
              "  const outputElement = document.getElementById(outputId);\n",
              "  // Cache steps on the outputElement to make it available for the next call\n",
              "  // to uploadFilesContinue from Python.\n",
              "  outputElement.steps = steps;\n",
              "\n",
              "  return _uploadFilesContinue(outputId);\n",
              "}\n",
              "\n",
              "// This is roughly an async generator (not supported in the browser yet),\n",
              "// where there are multiple asynchronous steps and the Python side is going\n",
              "// to poll for completion of each step.\n",
              "// This uses a Promise to block the python side on completion of each step,\n",
              "// then passes the result of the previous step as the input to the next step.\n",
              "function _uploadFilesContinue(outputId) {\n",
              "  const outputElement = document.getElementById(outputId);\n",
              "  const steps = outputElement.steps;\n",
              "\n",
              "  const next = steps.next(outputElement.lastPromiseValue);\n",
              "  return Promise.resolve(next.value.promise).then((value) => {\n",
              "    // Cache the last promise value to make it available to the next\n",
              "    // step of the generator.\n",
              "    outputElement.lastPromiseValue = value;\n",
              "    return next.value.response;\n",
              "  });\n",
              "}\n",
              "\n",
              "/**\n",
              " * Generator function which is called between each async step of the upload\n",
              " * process.\n",
              " * @param {string} inputId Element ID of the input file picker element.\n",
              " * @param {string} outputId Element ID of the output display.\n",
              " * @return {!Iterable<!Object>} Iterable of next steps.\n",
              " */\n",
              "function* uploadFilesStep(inputId, outputId) {\n",
              "  const inputElement = document.getElementById(inputId);\n",
              "  inputElement.disabled = false;\n",
              "\n",
              "  const outputElement = document.getElementById(outputId);\n",
              "  outputElement.innerHTML = '';\n",
              "\n",
              "  const pickedPromise = new Promise((resolve) => {\n",
              "    inputElement.addEventListener('change', (e) => {\n",
              "      resolve(e.target.files);\n",
              "    });\n",
              "  });\n",
              "\n",
              "  const cancel = document.createElement('button');\n",
              "  inputElement.parentElement.appendChild(cancel);\n",
              "  cancel.textContent = 'Cancel upload';\n",
              "  const cancelPromise = new Promise((resolve) => {\n",
              "    cancel.onclick = () => {\n",
              "      resolve(null);\n",
              "    };\n",
              "  });\n",
              "\n",
              "  // Wait for the user to pick the files.\n",
              "  const files = yield {\n",
              "    promise: Promise.race([pickedPromise, cancelPromise]),\n",
              "    response: {\n",
              "      action: 'starting',\n",
              "    }\n",
              "  };\n",
              "\n",
              "  cancel.remove();\n",
              "\n",
              "  // Disable the input element since further picks are not allowed.\n",
              "  inputElement.disabled = true;\n",
              "\n",
              "  if (!files) {\n",
              "    return {\n",
              "      response: {\n",
              "        action: 'complete',\n",
              "      }\n",
              "    };\n",
              "  }\n",
              "\n",
              "  for (const file of files) {\n",
              "    const li = document.createElement('li');\n",
              "    li.append(span(file.name, {fontWeight: 'bold'}));\n",
              "    li.append(span(\n",
              "        `(${file.type || 'n/a'}) - ${file.size} bytes, ` +\n",
              "        `last modified: ${\n",
              "            file.lastModifiedDate ? file.lastModifiedDate.toLocaleDateString() :\n",
              "                                    'n/a'} - `));\n",
              "    const percent = span('0% done');\n",
              "    li.appendChild(percent);\n",
              "\n",
              "    outputElement.appendChild(li);\n",
              "\n",
              "    const fileDataPromise = new Promise((resolve) => {\n",
              "      const reader = new FileReader();\n",
              "      reader.onload = (e) => {\n",
              "        resolve(e.target.result);\n",
              "      };\n",
              "      reader.readAsArrayBuffer(file);\n",
              "    });\n",
              "    // Wait for the data to be ready.\n",
              "    let fileData = yield {\n",
              "      promise: fileDataPromise,\n",
              "      response: {\n",
              "        action: 'continue',\n",
              "      }\n",
              "    };\n",
              "\n",
              "    // Use a chunked sending to avoid message size limits. See b/62115660.\n",
              "    let position = 0;\n",
              "    do {\n",
              "      const length = Math.min(fileData.byteLength - position, MAX_PAYLOAD_SIZE);\n",
              "      const chunk = new Uint8Array(fileData, position, length);\n",
              "      position += length;\n",
              "\n",
              "      const base64 = btoa(String.fromCharCode.apply(null, chunk));\n",
              "      yield {\n",
              "        response: {\n",
              "          action: 'append',\n",
              "          file: file.name,\n",
              "          data: base64,\n",
              "        },\n",
              "      };\n",
              "\n",
              "      let percentDone = fileData.byteLength === 0 ?\n",
              "          100 :\n",
              "          Math.round((position / fileData.byteLength) * 100);\n",
              "      percent.textContent = `${percentDone}% done`;\n",
              "\n",
              "    } while (position < fileData.byteLength);\n",
              "  }\n",
              "\n",
              "  // All done.\n",
              "  yield {\n",
              "    response: {\n",
              "      action: 'complete',\n",
              "    }\n",
              "  };\n",
              "}\n",
              "\n",
              "scope.google = scope.google || {};\n",
              "scope.google.colab = scope.google.colab || {};\n",
              "scope.google.colab._files = {\n",
              "  _uploadFiles,\n",
              "  _uploadFilesContinue,\n",
              "};\n",
              "})(self);\n",
              "</script> "
            ]
          },
          "metadata": {}
        },
        {
          "output_type": "stream",
          "name": "stdout",
          "text": [
            "Saving secrets.txt to secrets.txt\n"
          ]
        }
      ]
    },
    {
      "cell_type": "code",
      "source": [
        "with open('secrets.txt', 'r') as f:\n",
        "    lines = f.readlines()\n",
        "\n",
        "## set the openai key\n",
        "openai_api_key = None\n",
        "for line in lines:\n",
        "    if line.startswith('OPENAI_API_KEY='):\n",
        "        openai_api_key = line.strip().split('=')[1]\n",
        "        break"
      ],
      "metadata": {
        "id": "T0sDLHEBp8dI"
      },
      "execution_count": null,
      "outputs": []
    },
    {
      "cell_type": "code",
      "source": [
        "#### add your path to test_data.csv below ####\n",
        "test_df = pd.read_csv('test_data.csv', sep='|')\n",
        "test_df.columns"
      ],
      "metadata": {
        "colab": {
          "base_uri": "https://localhost:8080/"
        },
        "outputId": "f236a98a-5145-4388-de92-9541caa07d11",
        "id": "tVtjT28vUH4E"
      },
      "execution_count": null,
      "outputs": [
        {
          "output_type": "execute_result",
          "data": {
            "text/plain": [
              "Index(['label', 'text'], dtype='object')"
            ]
          },
          "metadata": {},
          "execution_count": 6
        }
      ]
    },
    {
      "cell_type": "code",
      "source": [
        "test_df.columns = ['label','text']\n",
        "test_df.tail()"
      ],
      "metadata": {
        "colab": {
          "base_uri": "https://localhost:8080/",
          "height": 206
        },
        "outputId": "516f3bfc-b630-4d58-e72d-d0796ccd36e4",
        "id": "F1_dk9afUH4E"
      },
      "execution_count": null,
      "outputs": [
        {
          "output_type": "execute_result",
          "data": {
            "text/plain": [
              "                  label                       text\n",
              "195          healthcare    Clinical Nurse Educator\n",
              "196  retail_hospitality  Entertainment Coordinator\n",
              "197               legal     Estate Planning Lawyer\n",
              "198          technology  Technical Program Manager\n",
              "199          healthcare             Oncology Nurse"
            ],
            "text/html": [
              "\n",
              "  <div id=\"df-bb0315d5-15f3-40d7-a7fb-79f38b640ed2\" class=\"colab-df-container\">\n",
              "    <div>\n",
              "<style scoped>\n",
              "    .dataframe tbody tr th:only-of-type {\n",
              "        vertical-align: middle;\n",
              "    }\n",
              "\n",
              "    .dataframe tbody tr th {\n",
              "        vertical-align: top;\n",
              "    }\n",
              "\n",
              "    .dataframe thead th {\n",
              "        text-align: right;\n",
              "    }\n",
              "</style>\n",
              "<table border=\"1\" class=\"dataframe\">\n",
              "  <thead>\n",
              "    <tr style=\"text-align: right;\">\n",
              "      <th></th>\n",
              "      <th>label</th>\n",
              "      <th>text</th>\n",
              "    </tr>\n",
              "  </thead>\n",
              "  <tbody>\n",
              "    <tr>\n",
              "      <th>195</th>\n",
              "      <td>healthcare</td>\n",
              "      <td>Clinical Nurse Educator</td>\n",
              "    </tr>\n",
              "    <tr>\n",
              "      <th>196</th>\n",
              "      <td>retail_hospitality</td>\n",
              "      <td>Entertainment Coordinator</td>\n",
              "    </tr>\n",
              "    <tr>\n",
              "      <th>197</th>\n",
              "      <td>legal</td>\n",
              "      <td>Estate Planning Lawyer</td>\n",
              "    </tr>\n",
              "    <tr>\n",
              "      <th>198</th>\n",
              "      <td>technology</td>\n",
              "      <td>Technical Program Manager</td>\n",
              "    </tr>\n",
              "    <tr>\n",
              "      <th>199</th>\n",
              "      <td>healthcare</td>\n",
              "      <td>Oncology Nurse</td>\n",
              "    </tr>\n",
              "  </tbody>\n",
              "</table>\n",
              "</div>\n",
              "    <div class=\"colab-df-buttons\">\n",
              "\n",
              "  <div class=\"colab-df-container\">\n",
              "    <button class=\"colab-df-convert\" onclick=\"convertToInteractive('df-bb0315d5-15f3-40d7-a7fb-79f38b640ed2')\"\n",
              "            title=\"Convert this dataframe to an interactive table.\"\n",
              "            style=\"display:none;\">\n",
              "\n",
              "  <svg xmlns=\"http://www.w3.org/2000/svg\" height=\"24px\" viewBox=\"0 -960 960 960\">\n",
              "    <path d=\"M120-120v-720h720v720H120Zm60-500h600v-160H180v160Zm220 220h160v-160H400v160Zm0 220h160v-160H400v160ZM180-400h160v-160H180v160Zm440 0h160v-160H620v160ZM180-180h160v-160H180v160Zm440 0h160v-160H620v160Z\"/>\n",
              "  </svg>\n",
              "    </button>\n",
              "\n",
              "  <style>\n",
              "    .colab-df-container {\n",
              "      display:flex;\n",
              "      gap: 12px;\n",
              "    }\n",
              "\n",
              "    .colab-df-convert {\n",
              "      background-color: #E8F0FE;\n",
              "      border: none;\n",
              "      border-radius: 50%;\n",
              "      cursor: pointer;\n",
              "      display: none;\n",
              "      fill: #1967D2;\n",
              "      height: 32px;\n",
              "      padding: 0 0 0 0;\n",
              "      width: 32px;\n",
              "    }\n",
              "\n",
              "    .colab-df-convert:hover {\n",
              "      background-color: #E2EBFA;\n",
              "      box-shadow: 0px 1px 2px rgba(60, 64, 67, 0.3), 0px 1px 3px 1px rgba(60, 64, 67, 0.15);\n",
              "      fill: #174EA6;\n",
              "    }\n",
              "\n",
              "    .colab-df-buttons div {\n",
              "      margin-bottom: 4px;\n",
              "    }\n",
              "\n",
              "    [theme=dark] .colab-df-convert {\n",
              "      background-color: #3B4455;\n",
              "      fill: #D2E3FC;\n",
              "    }\n",
              "\n",
              "    [theme=dark] .colab-df-convert:hover {\n",
              "      background-color: #434B5C;\n",
              "      box-shadow: 0px 1px 3px 1px rgba(0, 0, 0, 0.15);\n",
              "      filter: drop-shadow(0px 1px 2px rgba(0, 0, 0, 0.3));\n",
              "      fill: #FFFFFF;\n",
              "    }\n",
              "  </style>\n",
              "\n",
              "    <script>\n",
              "      const buttonEl =\n",
              "        document.querySelector('#df-bb0315d5-15f3-40d7-a7fb-79f38b640ed2 button.colab-df-convert');\n",
              "      buttonEl.style.display =\n",
              "        google.colab.kernel.accessAllowed ? 'block' : 'none';\n",
              "\n",
              "      async function convertToInteractive(key) {\n",
              "        const element = document.querySelector('#df-bb0315d5-15f3-40d7-a7fb-79f38b640ed2');\n",
              "        const dataTable =\n",
              "          await google.colab.kernel.invokeFunction('convertToInteractive',\n",
              "                                                    [key], {});\n",
              "        if (!dataTable) return;\n",
              "\n",
              "        const docLinkHtml = 'Like what you see? Visit the ' +\n",
              "          '<a target=\"_blank\" href=https://colab.research.google.com/notebooks/data_table.ipynb>data table notebook</a>'\n",
              "          + ' to learn more about interactive tables.';\n",
              "        element.innerHTML = '';\n",
              "        dataTable['output_type'] = 'display_data';\n",
              "        await google.colab.output.renderOutput(dataTable, element);\n",
              "        const docLink = document.createElement('div');\n",
              "        docLink.innerHTML = docLinkHtml;\n",
              "        element.appendChild(docLink);\n",
              "      }\n",
              "    </script>\n",
              "  </div>\n",
              "\n",
              "\n",
              "<div id=\"df-8c3358b8-ef2a-4d03-95e9-ee5d82a7114a\">\n",
              "  <button class=\"colab-df-quickchart\" onclick=\"quickchart('df-8c3358b8-ef2a-4d03-95e9-ee5d82a7114a')\"\n",
              "            title=\"Suggest charts\"\n",
              "            style=\"display:none;\">\n",
              "\n",
              "<svg xmlns=\"http://www.w3.org/2000/svg\" height=\"24px\"viewBox=\"0 0 24 24\"\n",
              "     width=\"24px\">\n",
              "    <g>\n",
              "        <path d=\"M19 3H5c-1.1 0-2 .9-2 2v14c0 1.1.9 2 2 2h14c1.1 0 2-.9 2-2V5c0-1.1-.9-2-2-2zM9 17H7v-7h2v7zm4 0h-2V7h2v10zm4 0h-2v-4h2v4z\"/>\n",
              "    </g>\n",
              "</svg>\n",
              "  </button>\n",
              "\n",
              "<style>\n",
              "  .colab-df-quickchart {\n",
              "      --bg-color: #E8F0FE;\n",
              "      --fill-color: #1967D2;\n",
              "      --hover-bg-color: #E2EBFA;\n",
              "      --hover-fill-color: #174EA6;\n",
              "      --disabled-fill-color: #AAA;\n",
              "      --disabled-bg-color: #DDD;\n",
              "  }\n",
              "\n",
              "  [theme=dark] .colab-df-quickchart {\n",
              "      --bg-color: #3B4455;\n",
              "      --fill-color: #D2E3FC;\n",
              "      --hover-bg-color: #434B5C;\n",
              "      --hover-fill-color: #FFFFFF;\n",
              "      --disabled-bg-color: #3B4455;\n",
              "      --disabled-fill-color: #666;\n",
              "  }\n",
              "\n",
              "  .colab-df-quickchart {\n",
              "    background-color: var(--bg-color);\n",
              "    border: none;\n",
              "    border-radius: 50%;\n",
              "    cursor: pointer;\n",
              "    display: none;\n",
              "    fill: var(--fill-color);\n",
              "    height: 32px;\n",
              "    padding: 0;\n",
              "    width: 32px;\n",
              "  }\n",
              "\n",
              "  .colab-df-quickchart:hover {\n",
              "    background-color: var(--hover-bg-color);\n",
              "    box-shadow: 0 1px 2px rgba(60, 64, 67, 0.3), 0 1px 3px 1px rgba(60, 64, 67, 0.15);\n",
              "    fill: var(--button-hover-fill-color);\n",
              "  }\n",
              "\n",
              "  .colab-df-quickchart-complete:disabled,\n",
              "  .colab-df-quickchart-complete:disabled:hover {\n",
              "    background-color: var(--disabled-bg-color);\n",
              "    fill: var(--disabled-fill-color);\n",
              "    box-shadow: none;\n",
              "  }\n",
              "\n",
              "  .colab-df-spinner {\n",
              "    border: 2px solid var(--fill-color);\n",
              "    border-color: transparent;\n",
              "    border-bottom-color: var(--fill-color);\n",
              "    animation:\n",
              "      spin 1s steps(1) infinite;\n",
              "  }\n",
              "\n",
              "  @keyframes spin {\n",
              "    0% {\n",
              "      border-color: transparent;\n",
              "      border-bottom-color: var(--fill-color);\n",
              "      border-left-color: var(--fill-color);\n",
              "    }\n",
              "    20% {\n",
              "      border-color: transparent;\n",
              "      border-left-color: var(--fill-color);\n",
              "      border-top-color: var(--fill-color);\n",
              "    }\n",
              "    30% {\n",
              "      border-color: transparent;\n",
              "      border-left-color: var(--fill-color);\n",
              "      border-top-color: var(--fill-color);\n",
              "      border-right-color: var(--fill-color);\n",
              "    }\n",
              "    40% {\n",
              "      border-color: transparent;\n",
              "      border-right-color: var(--fill-color);\n",
              "      border-top-color: var(--fill-color);\n",
              "    }\n",
              "    60% {\n",
              "      border-color: transparent;\n",
              "      border-right-color: var(--fill-color);\n",
              "    }\n",
              "    80% {\n",
              "      border-color: transparent;\n",
              "      border-right-color: var(--fill-color);\n",
              "      border-bottom-color: var(--fill-color);\n",
              "    }\n",
              "    90% {\n",
              "      border-color: transparent;\n",
              "      border-bottom-color: var(--fill-color);\n",
              "    }\n",
              "  }\n",
              "</style>\n",
              "\n",
              "  <script>\n",
              "    async function quickchart(key) {\n",
              "      const quickchartButtonEl =\n",
              "        document.querySelector('#' + key + ' button');\n",
              "      quickchartButtonEl.disabled = true;  // To prevent multiple clicks.\n",
              "      quickchartButtonEl.classList.add('colab-df-spinner');\n",
              "      try {\n",
              "        const charts = await google.colab.kernel.invokeFunction(\n",
              "            'suggestCharts', [key], {});\n",
              "      } catch (error) {\n",
              "        console.error('Error during call to suggestCharts:', error);\n",
              "      }\n",
              "      quickchartButtonEl.classList.remove('colab-df-spinner');\n",
              "      quickchartButtonEl.classList.add('colab-df-quickchart-complete');\n",
              "    }\n",
              "    (() => {\n",
              "      let quickchartButtonEl =\n",
              "        document.querySelector('#df-8c3358b8-ef2a-4d03-95e9-ee5d82a7114a button');\n",
              "      quickchartButtonEl.style.display =\n",
              "        google.colab.kernel.accessAllowed ? 'block' : 'none';\n",
              "    })();\n",
              "  </script>\n",
              "</div>\n",
              "\n",
              "    </div>\n",
              "  </div>\n"
            ],
            "application/vnd.google.colaboratory.intrinsic+json": {
              "type": "dataframe",
              "summary": "{\n  \"name\": \"test_df\",\n  \"rows\": 5,\n  \"fields\": [\n    {\n      \"column\": \"label\",\n      \"properties\": {\n        \"dtype\": \"string\",\n        \"num_unique_values\": 4,\n        \"samples\": [\n          \"retail_hospitality\",\n          \"technology\",\n          \"healthcare\"\n        ],\n        \"semantic_type\": \"\",\n        \"description\": \"\"\n      }\n    },\n    {\n      \"column\": \"text\",\n      \"properties\": {\n        \"dtype\": \"string\",\n        \"num_unique_values\": 5,\n        \"samples\": [\n          \"Entertainment Coordinator\",\n          \"Oncology Nurse\",\n          \"Estate Planning Lawyer\"\n        ],\n        \"semantic_type\": \"\",\n        \"description\": \"\"\n      }\n    }\n  ]\n}"
            }
          },
          "metadata": {},
          "execution_count": 7
        }
      ]
    },
    {
      "cell_type": "code",
      "source": [
        "test_df.describe()"
      ],
      "metadata": {
        "colab": {
          "base_uri": "https://localhost:8080/",
          "height": 174
        },
        "outputId": "53ea89c2-c98c-4348-d7eb-fae72ea36739",
        "id": "kQVnqatNUH4E"
      },
      "execution_count": null,
      "outputs": [
        {
          "output_type": "execute_result",
          "data": {
            "text/plain": [
              "            label                             text\n",
              "count         200                              200\n",
              "unique          8                              200\n",
              "top     education  Education Technology Specialist\n",
              "freq           36                                1"
            ],
            "text/html": [
              "\n",
              "  <div id=\"df-b30ff2a2-37b2-46d1-86aa-edb3890dd766\" class=\"colab-df-container\">\n",
              "    <div>\n",
              "<style scoped>\n",
              "    .dataframe tbody tr th:only-of-type {\n",
              "        vertical-align: middle;\n",
              "    }\n",
              "\n",
              "    .dataframe tbody tr th {\n",
              "        vertical-align: top;\n",
              "    }\n",
              "\n",
              "    .dataframe thead th {\n",
              "        text-align: right;\n",
              "    }\n",
              "</style>\n",
              "<table border=\"1\" class=\"dataframe\">\n",
              "  <thead>\n",
              "    <tr style=\"text-align: right;\">\n",
              "      <th></th>\n",
              "      <th>label</th>\n",
              "      <th>text</th>\n",
              "    </tr>\n",
              "  </thead>\n",
              "  <tbody>\n",
              "    <tr>\n",
              "      <th>count</th>\n",
              "      <td>200</td>\n",
              "      <td>200</td>\n",
              "    </tr>\n",
              "    <tr>\n",
              "      <th>unique</th>\n",
              "      <td>8</td>\n",
              "      <td>200</td>\n",
              "    </tr>\n",
              "    <tr>\n",
              "      <th>top</th>\n",
              "      <td>education</td>\n",
              "      <td>Education Technology Specialist</td>\n",
              "    </tr>\n",
              "    <tr>\n",
              "      <th>freq</th>\n",
              "      <td>36</td>\n",
              "      <td>1</td>\n",
              "    </tr>\n",
              "  </tbody>\n",
              "</table>\n",
              "</div>\n",
              "    <div class=\"colab-df-buttons\">\n",
              "\n",
              "  <div class=\"colab-df-container\">\n",
              "    <button class=\"colab-df-convert\" onclick=\"convertToInteractive('df-b30ff2a2-37b2-46d1-86aa-edb3890dd766')\"\n",
              "            title=\"Convert this dataframe to an interactive table.\"\n",
              "            style=\"display:none;\">\n",
              "\n",
              "  <svg xmlns=\"http://www.w3.org/2000/svg\" height=\"24px\" viewBox=\"0 -960 960 960\">\n",
              "    <path d=\"M120-120v-720h720v720H120Zm60-500h600v-160H180v160Zm220 220h160v-160H400v160Zm0 220h160v-160H400v160ZM180-400h160v-160H180v160Zm440 0h160v-160H620v160ZM180-180h160v-160H180v160Zm440 0h160v-160H620v160Z\"/>\n",
              "  </svg>\n",
              "    </button>\n",
              "\n",
              "  <style>\n",
              "    .colab-df-container {\n",
              "      display:flex;\n",
              "      gap: 12px;\n",
              "    }\n",
              "\n",
              "    .colab-df-convert {\n",
              "      background-color: #E8F0FE;\n",
              "      border: none;\n",
              "      border-radius: 50%;\n",
              "      cursor: pointer;\n",
              "      display: none;\n",
              "      fill: #1967D2;\n",
              "      height: 32px;\n",
              "      padding: 0 0 0 0;\n",
              "      width: 32px;\n",
              "    }\n",
              "\n",
              "    .colab-df-convert:hover {\n",
              "      background-color: #E2EBFA;\n",
              "      box-shadow: 0px 1px 2px rgba(60, 64, 67, 0.3), 0px 1px 3px 1px rgba(60, 64, 67, 0.15);\n",
              "      fill: #174EA6;\n",
              "    }\n",
              "\n",
              "    .colab-df-buttons div {\n",
              "      margin-bottom: 4px;\n",
              "    }\n",
              "\n",
              "    [theme=dark] .colab-df-convert {\n",
              "      background-color: #3B4455;\n",
              "      fill: #D2E3FC;\n",
              "    }\n",
              "\n",
              "    [theme=dark] .colab-df-convert:hover {\n",
              "      background-color: #434B5C;\n",
              "      box-shadow: 0px 1px 3px 1px rgba(0, 0, 0, 0.15);\n",
              "      filter: drop-shadow(0px 1px 2px rgba(0, 0, 0, 0.3));\n",
              "      fill: #FFFFFF;\n",
              "    }\n",
              "  </style>\n",
              "\n",
              "    <script>\n",
              "      const buttonEl =\n",
              "        document.querySelector('#df-b30ff2a2-37b2-46d1-86aa-edb3890dd766 button.colab-df-convert');\n",
              "      buttonEl.style.display =\n",
              "        google.colab.kernel.accessAllowed ? 'block' : 'none';\n",
              "\n",
              "      async function convertToInteractive(key) {\n",
              "        const element = document.querySelector('#df-b30ff2a2-37b2-46d1-86aa-edb3890dd766');\n",
              "        const dataTable =\n",
              "          await google.colab.kernel.invokeFunction('convertToInteractive',\n",
              "                                                    [key], {});\n",
              "        if (!dataTable) return;\n",
              "\n",
              "        const docLinkHtml = 'Like what you see? Visit the ' +\n",
              "          '<a target=\"_blank\" href=https://colab.research.google.com/notebooks/data_table.ipynb>data table notebook</a>'\n",
              "          + ' to learn more about interactive tables.';\n",
              "        element.innerHTML = '';\n",
              "        dataTable['output_type'] = 'display_data';\n",
              "        await google.colab.output.renderOutput(dataTable, element);\n",
              "        const docLink = document.createElement('div');\n",
              "        docLink.innerHTML = docLinkHtml;\n",
              "        element.appendChild(docLink);\n",
              "      }\n",
              "    </script>\n",
              "  </div>\n",
              "\n",
              "\n",
              "<div id=\"df-825e0dab-d0d1-434b-afd9-57ad2e499d87\">\n",
              "  <button class=\"colab-df-quickchart\" onclick=\"quickchart('df-825e0dab-d0d1-434b-afd9-57ad2e499d87')\"\n",
              "            title=\"Suggest charts\"\n",
              "            style=\"display:none;\">\n",
              "\n",
              "<svg xmlns=\"http://www.w3.org/2000/svg\" height=\"24px\"viewBox=\"0 0 24 24\"\n",
              "     width=\"24px\">\n",
              "    <g>\n",
              "        <path d=\"M19 3H5c-1.1 0-2 .9-2 2v14c0 1.1.9 2 2 2h14c1.1 0 2-.9 2-2V5c0-1.1-.9-2-2-2zM9 17H7v-7h2v7zm4 0h-2V7h2v10zm4 0h-2v-4h2v4z\"/>\n",
              "    </g>\n",
              "</svg>\n",
              "  </button>\n",
              "\n",
              "<style>\n",
              "  .colab-df-quickchart {\n",
              "      --bg-color: #E8F0FE;\n",
              "      --fill-color: #1967D2;\n",
              "      --hover-bg-color: #E2EBFA;\n",
              "      --hover-fill-color: #174EA6;\n",
              "      --disabled-fill-color: #AAA;\n",
              "      --disabled-bg-color: #DDD;\n",
              "  }\n",
              "\n",
              "  [theme=dark] .colab-df-quickchart {\n",
              "      --bg-color: #3B4455;\n",
              "      --fill-color: #D2E3FC;\n",
              "      --hover-bg-color: #434B5C;\n",
              "      --hover-fill-color: #FFFFFF;\n",
              "      --disabled-bg-color: #3B4455;\n",
              "      --disabled-fill-color: #666;\n",
              "  }\n",
              "\n",
              "  .colab-df-quickchart {\n",
              "    background-color: var(--bg-color);\n",
              "    border: none;\n",
              "    border-radius: 50%;\n",
              "    cursor: pointer;\n",
              "    display: none;\n",
              "    fill: var(--fill-color);\n",
              "    height: 32px;\n",
              "    padding: 0;\n",
              "    width: 32px;\n",
              "  }\n",
              "\n",
              "  .colab-df-quickchart:hover {\n",
              "    background-color: var(--hover-bg-color);\n",
              "    box-shadow: 0 1px 2px rgba(60, 64, 67, 0.3), 0 1px 3px 1px rgba(60, 64, 67, 0.15);\n",
              "    fill: var(--button-hover-fill-color);\n",
              "  }\n",
              "\n",
              "  .colab-df-quickchart-complete:disabled,\n",
              "  .colab-df-quickchart-complete:disabled:hover {\n",
              "    background-color: var(--disabled-bg-color);\n",
              "    fill: var(--disabled-fill-color);\n",
              "    box-shadow: none;\n",
              "  }\n",
              "\n",
              "  .colab-df-spinner {\n",
              "    border: 2px solid var(--fill-color);\n",
              "    border-color: transparent;\n",
              "    border-bottom-color: var(--fill-color);\n",
              "    animation:\n",
              "      spin 1s steps(1) infinite;\n",
              "  }\n",
              "\n",
              "  @keyframes spin {\n",
              "    0% {\n",
              "      border-color: transparent;\n",
              "      border-bottom-color: var(--fill-color);\n",
              "      border-left-color: var(--fill-color);\n",
              "    }\n",
              "    20% {\n",
              "      border-color: transparent;\n",
              "      border-left-color: var(--fill-color);\n",
              "      border-top-color: var(--fill-color);\n",
              "    }\n",
              "    30% {\n",
              "      border-color: transparent;\n",
              "      border-left-color: var(--fill-color);\n",
              "      border-top-color: var(--fill-color);\n",
              "      border-right-color: var(--fill-color);\n",
              "    }\n",
              "    40% {\n",
              "      border-color: transparent;\n",
              "      border-right-color: var(--fill-color);\n",
              "      border-top-color: var(--fill-color);\n",
              "    }\n",
              "    60% {\n",
              "      border-color: transparent;\n",
              "      border-right-color: var(--fill-color);\n",
              "    }\n",
              "    80% {\n",
              "      border-color: transparent;\n",
              "      border-right-color: var(--fill-color);\n",
              "      border-bottom-color: var(--fill-color);\n",
              "    }\n",
              "    90% {\n",
              "      border-color: transparent;\n",
              "      border-bottom-color: var(--fill-color);\n",
              "    }\n",
              "  }\n",
              "</style>\n",
              "\n",
              "  <script>\n",
              "    async function quickchart(key) {\n",
              "      const quickchartButtonEl =\n",
              "        document.querySelector('#' + key + ' button');\n",
              "      quickchartButtonEl.disabled = true;  // To prevent multiple clicks.\n",
              "      quickchartButtonEl.classList.add('colab-df-spinner');\n",
              "      try {\n",
              "        const charts = await google.colab.kernel.invokeFunction(\n",
              "            'suggestCharts', [key], {});\n",
              "      } catch (error) {\n",
              "        console.error('Error during call to suggestCharts:', error);\n",
              "      }\n",
              "      quickchartButtonEl.classList.remove('colab-df-spinner');\n",
              "      quickchartButtonEl.classList.add('colab-df-quickchart-complete');\n",
              "    }\n",
              "    (() => {\n",
              "      let quickchartButtonEl =\n",
              "        document.querySelector('#df-825e0dab-d0d1-434b-afd9-57ad2e499d87 button');\n",
              "      quickchartButtonEl.style.display =\n",
              "        google.colab.kernel.accessAllowed ? 'block' : 'none';\n",
              "    })();\n",
              "  </script>\n",
              "</div>\n",
              "\n",
              "    </div>\n",
              "  </div>\n"
            ],
            "application/vnd.google.colaboratory.intrinsic+json": {
              "type": "dataframe",
              "summary": "{\n  \"name\": \"test_df\",\n  \"rows\": 4,\n  \"fields\": [\n    {\n      \"column\": \"label\",\n      \"properties\": {\n        \"dtype\": \"string\",\n        \"num_unique_values\": 4,\n        \"samples\": [\n          8,\n          \"36\",\n          \"200\"\n        ],\n        \"semantic_type\": \"\",\n        \"description\": \"\"\n      }\n    },\n    {\n      \"column\": \"text\",\n      \"properties\": {\n        \"dtype\": \"string\",\n        \"num_unique_values\": 3,\n        \"samples\": [\n          \"200\",\n          \"Education Technology Specialist\",\n          \"1\"\n        ],\n        \"semantic_type\": \"\",\n        \"description\": \"\"\n      }\n    }\n  ]\n}"
            }
          },
          "metadata": {},
          "execution_count": 8
        }
      ]
    },
    {
      "cell_type": "code",
      "source": [
        "#hide\n",
        "## show unique labels to ensure no typos or missing categories\n",
        "unique_labels = test_df['label'].unique()\n",
        "label_counts = test_df['label'].value_counts()\n",
        "\n",
        "unique_labels_list = unique_labels.tolist()\n",
        "print(\"Label Counts List:\", unique_labels_list)"
      ],
      "metadata": {
        "colab": {
          "base_uri": "https://localhost:8080/"
        },
        "outputId": "b4986abe-bdda-4bf9-e2fc-84585eecdcb1",
        "id": "JhEDW9TDUH4E"
      },
      "execution_count": null,
      "outputs": [
        {
          "output_type": "stream",
          "name": "stdout",
          "text": [
            "Label Counts List: ['education', 'technology', 'retail_hospitality', 'marketing_advertising', 'drama_arts', 'legal', 'healthcare', 'finance']\n"
          ]
        }
      ]
    },
    {
      "cell_type": "code",
      "source": [
        "## set the predictions df so that we can calculate accuracy\n",
        "gpt_preds_df = test_df.copy()\n",
        "#gpt_preds_df = gpt_preds_df.iloc[:5]\n",
        "gpt_preds_df.head()"
      ],
      "metadata": {
        "colab": {
          "base_uri": "https://localhost:8080/",
          "height": 206
        },
        "outputId": "930dee40-411e-4cf2-88c6-97c3f5915033",
        "id": "hIn5HmZQUH4F"
      },
      "execution_count": null,
      "outputs": [
        {
          "output_type": "execute_result",
          "data": {
            "text/plain": [
              "                   label                             text\n",
              "0              education  Education Technology Specialist\n",
              "1             technology        Incident Response Analyst\n",
              "2     retail_hospitality           Spa Operations Manager\n",
              "3  marketing_advertising                     Data Analyst\n",
              "4             drama_arts                   Hair Assistant"
            ],
            "text/html": [
              "\n",
              "  <div id=\"df-f441f793-1671-4ce7-8808-49d52782fefd\" class=\"colab-df-container\">\n",
              "    <div>\n",
              "<style scoped>\n",
              "    .dataframe tbody tr th:only-of-type {\n",
              "        vertical-align: middle;\n",
              "    }\n",
              "\n",
              "    .dataframe tbody tr th {\n",
              "        vertical-align: top;\n",
              "    }\n",
              "\n",
              "    .dataframe thead th {\n",
              "        text-align: right;\n",
              "    }\n",
              "</style>\n",
              "<table border=\"1\" class=\"dataframe\">\n",
              "  <thead>\n",
              "    <tr style=\"text-align: right;\">\n",
              "      <th></th>\n",
              "      <th>label</th>\n",
              "      <th>text</th>\n",
              "    </tr>\n",
              "  </thead>\n",
              "  <tbody>\n",
              "    <tr>\n",
              "      <th>0</th>\n",
              "      <td>education</td>\n",
              "      <td>Education Technology Specialist</td>\n",
              "    </tr>\n",
              "    <tr>\n",
              "      <th>1</th>\n",
              "      <td>technology</td>\n",
              "      <td>Incident Response Analyst</td>\n",
              "    </tr>\n",
              "    <tr>\n",
              "      <th>2</th>\n",
              "      <td>retail_hospitality</td>\n",
              "      <td>Spa Operations Manager</td>\n",
              "    </tr>\n",
              "    <tr>\n",
              "      <th>3</th>\n",
              "      <td>marketing_advertising</td>\n",
              "      <td>Data Analyst</td>\n",
              "    </tr>\n",
              "    <tr>\n",
              "      <th>4</th>\n",
              "      <td>drama_arts</td>\n",
              "      <td>Hair Assistant</td>\n",
              "    </tr>\n",
              "  </tbody>\n",
              "</table>\n",
              "</div>\n",
              "    <div class=\"colab-df-buttons\">\n",
              "\n",
              "  <div class=\"colab-df-container\">\n",
              "    <button class=\"colab-df-convert\" onclick=\"convertToInteractive('df-f441f793-1671-4ce7-8808-49d52782fefd')\"\n",
              "            title=\"Convert this dataframe to an interactive table.\"\n",
              "            style=\"display:none;\">\n",
              "\n",
              "  <svg xmlns=\"http://www.w3.org/2000/svg\" height=\"24px\" viewBox=\"0 -960 960 960\">\n",
              "    <path d=\"M120-120v-720h720v720H120Zm60-500h600v-160H180v160Zm220 220h160v-160H400v160Zm0 220h160v-160H400v160ZM180-400h160v-160H180v160Zm440 0h160v-160H620v160ZM180-180h160v-160H180v160Zm440 0h160v-160H620v160Z\"/>\n",
              "  </svg>\n",
              "    </button>\n",
              "\n",
              "  <style>\n",
              "    .colab-df-container {\n",
              "      display:flex;\n",
              "      gap: 12px;\n",
              "    }\n",
              "\n",
              "    .colab-df-convert {\n",
              "      background-color: #E8F0FE;\n",
              "      border: none;\n",
              "      border-radius: 50%;\n",
              "      cursor: pointer;\n",
              "      display: none;\n",
              "      fill: #1967D2;\n",
              "      height: 32px;\n",
              "      padding: 0 0 0 0;\n",
              "      width: 32px;\n",
              "    }\n",
              "\n",
              "    .colab-df-convert:hover {\n",
              "      background-color: #E2EBFA;\n",
              "      box-shadow: 0px 1px 2px rgba(60, 64, 67, 0.3), 0px 1px 3px 1px rgba(60, 64, 67, 0.15);\n",
              "      fill: #174EA6;\n",
              "    }\n",
              "\n",
              "    .colab-df-buttons div {\n",
              "      margin-bottom: 4px;\n",
              "    }\n",
              "\n",
              "    [theme=dark] .colab-df-convert {\n",
              "      background-color: #3B4455;\n",
              "      fill: #D2E3FC;\n",
              "    }\n",
              "\n",
              "    [theme=dark] .colab-df-convert:hover {\n",
              "      background-color: #434B5C;\n",
              "      box-shadow: 0px 1px 3px 1px rgba(0, 0, 0, 0.15);\n",
              "      filter: drop-shadow(0px 1px 2px rgba(0, 0, 0, 0.3));\n",
              "      fill: #FFFFFF;\n",
              "    }\n",
              "  </style>\n",
              "\n",
              "    <script>\n",
              "      const buttonEl =\n",
              "        document.querySelector('#df-f441f793-1671-4ce7-8808-49d52782fefd button.colab-df-convert');\n",
              "      buttonEl.style.display =\n",
              "        google.colab.kernel.accessAllowed ? 'block' : 'none';\n",
              "\n",
              "      async function convertToInteractive(key) {\n",
              "        const element = document.querySelector('#df-f441f793-1671-4ce7-8808-49d52782fefd');\n",
              "        const dataTable =\n",
              "          await google.colab.kernel.invokeFunction('convertToInteractive',\n",
              "                                                    [key], {});\n",
              "        if (!dataTable) return;\n",
              "\n",
              "        const docLinkHtml = 'Like what you see? Visit the ' +\n",
              "          '<a target=\"_blank\" href=https://colab.research.google.com/notebooks/data_table.ipynb>data table notebook</a>'\n",
              "          + ' to learn more about interactive tables.';\n",
              "        element.innerHTML = '';\n",
              "        dataTable['output_type'] = 'display_data';\n",
              "        await google.colab.output.renderOutput(dataTable, element);\n",
              "        const docLink = document.createElement('div');\n",
              "        docLink.innerHTML = docLinkHtml;\n",
              "        element.appendChild(docLink);\n",
              "      }\n",
              "    </script>\n",
              "  </div>\n",
              "\n",
              "\n",
              "<div id=\"df-eb7c4cbf-8b22-45e1-b68f-161f8e156139\">\n",
              "  <button class=\"colab-df-quickchart\" onclick=\"quickchart('df-eb7c4cbf-8b22-45e1-b68f-161f8e156139')\"\n",
              "            title=\"Suggest charts\"\n",
              "            style=\"display:none;\">\n",
              "\n",
              "<svg xmlns=\"http://www.w3.org/2000/svg\" height=\"24px\"viewBox=\"0 0 24 24\"\n",
              "     width=\"24px\">\n",
              "    <g>\n",
              "        <path d=\"M19 3H5c-1.1 0-2 .9-2 2v14c0 1.1.9 2 2 2h14c1.1 0 2-.9 2-2V5c0-1.1-.9-2-2-2zM9 17H7v-7h2v7zm4 0h-2V7h2v10zm4 0h-2v-4h2v4z\"/>\n",
              "    </g>\n",
              "</svg>\n",
              "  </button>\n",
              "\n",
              "<style>\n",
              "  .colab-df-quickchart {\n",
              "      --bg-color: #E8F0FE;\n",
              "      --fill-color: #1967D2;\n",
              "      --hover-bg-color: #E2EBFA;\n",
              "      --hover-fill-color: #174EA6;\n",
              "      --disabled-fill-color: #AAA;\n",
              "      --disabled-bg-color: #DDD;\n",
              "  }\n",
              "\n",
              "  [theme=dark] .colab-df-quickchart {\n",
              "      --bg-color: #3B4455;\n",
              "      --fill-color: #D2E3FC;\n",
              "      --hover-bg-color: #434B5C;\n",
              "      --hover-fill-color: #FFFFFF;\n",
              "      --disabled-bg-color: #3B4455;\n",
              "      --disabled-fill-color: #666;\n",
              "  }\n",
              "\n",
              "  .colab-df-quickchart {\n",
              "    background-color: var(--bg-color);\n",
              "    border: none;\n",
              "    border-radius: 50%;\n",
              "    cursor: pointer;\n",
              "    display: none;\n",
              "    fill: var(--fill-color);\n",
              "    height: 32px;\n",
              "    padding: 0;\n",
              "    width: 32px;\n",
              "  }\n",
              "\n",
              "  .colab-df-quickchart:hover {\n",
              "    background-color: var(--hover-bg-color);\n",
              "    box-shadow: 0 1px 2px rgba(60, 64, 67, 0.3), 0 1px 3px 1px rgba(60, 64, 67, 0.15);\n",
              "    fill: var(--button-hover-fill-color);\n",
              "  }\n",
              "\n",
              "  .colab-df-quickchart-complete:disabled,\n",
              "  .colab-df-quickchart-complete:disabled:hover {\n",
              "    background-color: var(--disabled-bg-color);\n",
              "    fill: var(--disabled-fill-color);\n",
              "    box-shadow: none;\n",
              "  }\n",
              "\n",
              "  .colab-df-spinner {\n",
              "    border: 2px solid var(--fill-color);\n",
              "    border-color: transparent;\n",
              "    border-bottom-color: var(--fill-color);\n",
              "    animation:\n",
              "      spin 1s steps(1) infinite;\n",
              "  }\n",
              "\n",
              "  @keyframes spin {\n",
              "    0% {\n",
              "      border-color: transparent;\n",
              "      border-bottom-color: var(--fill-color);\n",
              "      border-left-color: var(--fill-color);\n",
              "    }\n",
              "    20% {\n",
              "      border-color: transparent;\n",
              "      border-left-color: var(--fill-color);\n",
              "      border-top-color: var(--fill-color);\n",
              "    }\n",
              "    30% {\n",
              "      border-color: transparent;\n",
              "      border-left-color: var(--fill-color);\n",
              "      border-top-color: var(--fill-color);\n",
              "      border-right-color: var(--fill-color);\n",
              "    }\n",
              "    40% {\n",
              "      border-color: transparent;\n",
              "      border-right-color: var(--fill-color);\n",
              "      border-top-color: var(--fill-color);\n",
              "    }\n",
              "    60% {\n",
              "      border-color: transparent;\n",
              "      border-right-color: var(--fill-color);\n",
              "    }\n",
              "    80% {\n",
              "      border-color: transparent;\n",
              "      border-right-color: var(--fill-color);\n",
              "      border-bottom-color: var(--fill-color);\n",
              "    }\n",
              "    90% {\n",
              "      border-color: transparent;\n",
              "      border-bottom-color: var(--fill-color);\n",
              "    }\n",
              "  }\n",
              "</style>\n",
              "\n",
              "  <script>\n",
              "    async function quickchart(key) {\n",
              "      const quickchartButtonEl =\n",
              "        document.querySelector('#' + key + ' button');\n",
              "      quickchartButtonEl.disabled = true;  // To prevent multiple clicks.\n",
              "      quickchartButtonEl.classList.add('colab-df-spinner');\n",
              "      try {\n",
              "        const charts = await google.colab.kernel.invokeFunction(\n",
              "            'suggestCharts', [key], {});\n",
              "      } catch (error) {\n",
              "        console.error('Error during call to suggestCharts:', error);\n",
              "      }\n",
              "      quickchartButtonEl.classList.remove('colab-df-spinner');\n",
              "      quickchartButtonEl.classList.add('colab-df-quickchart-complete');\n",
              "    }\n",
              "    (() => {\n",
              "      let quickchartButtonEl =\n",
              "        document.querySelector('#df-eb7c4cbf-8b22-45e1-b68f-161f8e156139 button');\n",
              "      quickchartButtonEl.style.display =\n",
              "        google.colab.kernel.accessAllowed ? 'block' : 'none';\n",
              "    })();\n",
              "  </script>\n",
              "</div>\n",
              "\n",
              "    </div>\n",
              "  </div>\n"
            ],
            "application/vnd.google.colaboratory.intrinsic+json": {
              "type": "dataframe",
              "variable_name": "gpt_preds_df",
              "summary": "{\n  \"name\": \"gpt_preds_df\",\n  \"rows\": 200,\n  \"fields\": [\n    {\n      \"column\": \"label\",\n      \"properties\": {\n        \"dtype\": \"category\",\n        \"num_unique_values\": 8,\n        \"samples\": [\n          \"technology\",\n          \"legal\",\n          \"education\"\n        ],\n        \"semantic_type\": \"\",\n        \"description\": \"\"\n      }\n    },\n    {\n      \"column\": \"text\",\n      \"properties\": {\n        \"dtype\": \"string\",\n        \"num_unique_values\": 200,\n        \"samples\": [\n          \"Elementary School Teacher\",\n          \"Medical Laboratory Technician\",\n          \"Actor/Actress\"\n        ],\n        \"semantic_type\": \"\",\n        \"description\": \"\"\n      }\n    }\n  ]\n}"
            }
          },
          "metadata": {},
          "execution_count": 10
        }
      ]
    },
    {
      "cell_type": "markdown",
      "source": [
        "# GPT Assistant"
      ],
      "metadata": {
        "id": "TdDHkb_pN5Q8"
      }
    },
    {
      "cell_type": "markdown",
      "source": [
        "## Create assistant"
      ],
      "metadata": {
        "id": "59gWvrApUsGs"
      }
    },
    {
      "cell_type": "markdown",
      "source": [
        "Creating an assistant requires only the model to be specified but we will include additional parameters. We will also include a function to show the parameters of the assistant in json format after creation. *Instructions* is similar to *system prompt*, we will keep this unchanged. We will also name the assistant."
      ],
      "metadata": {
        "id": "z9RmVhy9HANJ"
      }
    },
    {
      "cell_type": "code",
      "source": [
        "openai.api_key = openai_api_key\n",
        "client = OpenAI(api_key=openai_api_key)\n",
        "## select a model from OpenAI's offerings\n",
        "model = 'gpt-3.5-turbo'\n",
        "#model = 'gpt-4-0613'"
      ],
      "metadata": {
        "id": "avmrmc7sWDuA"
      },
      "execution_count": null,
      "outputs": []
    },
    {
      "cell_type": "code",
      "source": [
        "## function to show parameters of assistant\n",
        "def show_json(obj):\n",
        "    display(json.loads(obj.model_dump_json()))"
      ],
      "metadata": {
        "id": "9gMg3cVvWc-7"
      },
      "execution_count": null,
      "outputs": []
    },
    {
      "cell_type": "code",
      "source": [
        "## set system prompt for environment\n",
        "system_prompt = \"You are a helpful assistant that categorizes job titles by industry.\""
      ],
      "metadata": {
        "id": "Jpxs6fT7UH4F"
      },
      "execution_count": null,
      "outputs": []
    },
    {
      "cell_type": "markdown",
      "source": [
        "Create the assistant. This only needs to be run once. Save the assistant_id variable to use and edit the assistant in the future."
      ],
      "metadata": {
        "id": "-OXeAcXjW0YU"
      }
    },
    {
      "cell_type": "code",
      "source": [
        "assistant = client.beta.assistants.create(\n",
        "    name=\"Job Categorization Assistant\",\n",
        "    instructions=system_prompt,\n",
        "    model=model,\n",
        ")\n",
        "## we will hide the actual output and provide a sample below to protect any potentially sensitive information\n",
        "#show_json(assistant)"
      ],
      "metadata": {
        "id": "MQ427qhq99iA"
      },
      "execution_count": null,
      "outputs": []
    },
    {
      "cell_type": "markdown",
      "source": [
        "{'id': 'ASSISTANT ID INFORMATION',\n",
        "\n",
        " 'created_at': 1717259597,\n",
        "\n",
        " 'description': None,\n",
        "\n",
        " 'instructions': 'You are a helpful assistant that\n",
        " categorizes job titles by industry.',\n",
        "\n",
        " 'metadata': {},\n",
        "\n",
        " 'model': 'gpt-3.5-turbo',\n",
        "\n",
        " 'name': 'Job Industry Categorization Assistant',\n",
        "\n",
        " 'object': 'assistant',\n",
        "\n",
        " 'tools': [],\n",
        "\n",
        " 'response_format': 'auto',\n",
        "\n",
        " 'temperature': 1.0,\n",
        "\n",
        " 'tool_resources': {'code_interpreter': None, 'file_search': None},\n",
        "\n",
        " 'top_p': 1.0}"
      ],
      "metadata": {
        "id": "24_6BfuXgQup"
      }
    },
    {
      "cell_type": "markdown",
      "source": [
        "We can see from the json output that assistants support *functions* or *tools* , temperature, format, top_p, etc. OpenAI has hosted tools such as *code_interpreter* and *file_search* that can allow the assistant to write and run code or augment knowledge from outside files. In this study we will use file_search to provide additional data to the assistant, as well as a third-party function to ensure proper output structure. *tool_resources* is where access to files is provided."
      ],
      "metadata": {
        "id": "Ffn73_OI-Qt-"
      }
    },
    {
      "cell_type": "markdown",
      "source": [
        "## Add function"
      ],
      "metadata": {
        "id": "4oL9Z4QHGb1j"
      }
    },
    {
      "cell_type": "markdown",
      "source": [
        "First let's create a function using the pydantic library to ensure output structure so that we can update our predictions dataframe properly.\n",
        "\n",
        "**Pydantic** is a data validation library for python. It allows you to define data schemas using Python data classes, which are then used to validate and parse input data. We are going to replace the function calling for a \"key\" and \"value\" json format from the previous study with a pydantic class. This is a more effective way to ensure structured output. See the documentation for more:\n",
        "https://docs.pydantic.dev/latest/"
      ],
      "metadata": {
        "id": "KbEPe6aNGmrw"
      }
    },
    {
      "cell_type": "code",
      "source": [
        "## use pydantic to set structured output\n",
        "class Jobs(BaseModel):\n",
        "    \"\"\"Represents the input text job title to be categorized and value being the existing industry value from the list. Include information such as best match for industry classification along with the probability and the second best match for industry classification along with the probability.\"\"\"\n",
        "    job_title: str = Field(..., description=\"The input text job title\")\n",
        "    industry_best: str = Field(..., description=\"The name of the best matching industry from the list provided. Must be in snake_case format.\")\n",
        "    best_prob: float = Field(..., description=\"The probability of the best matching industry from the list provided. Must be a decimal between 0 and 1, e.g., 0.90 for 90%.\")\n",
        "    industry_second: str = Field(..., description=\"The name of the second best matching industry from the list provided. Must be in snake_case format.\")\n",
        "    second_prob: str = Field(..., description=\"The probability of the second best matching industry from the list provided. Must be a decimal between 0 and 1, e.g., 0.90 for 90%.\")"
      ],
      "metadata": {
        "id": "dxWIfzdrUH4F"
      },
      "execution_count": null,
      "outputs": []
    },
    {
      "cell_type": "code",
      "source": [
        "## create schema for function call\n",
        "## this will create the same function structure as study III, with the schema replaced by our pydantic object\n",
        "def gen_gpt_function(function_name,function_description,function_json_schema):\n",
        "    return {\n",
        "        \"type\":\"function\",\n",
        "        \"function\":{\n",
        "            \"name\":function_name,\n",
        "            \"description\":function_description,\n",
        "            \"parameters\":function_json_schema\n",
        "        }\n",
        "    }"
      ],
      "metadata": {
        "id": "njIcDjlGUH4F"
      },
      "execution_count": null,
      "outputs": []
    },
    {
      "cell_type": "code",
      "source": [
        "schema_function = gen_gpt_function(function_name=\"categorize_job_title\",function_description=\"function for categorizing a job title into an industry of best fit\",function_json_schema=Jobs.schema())\n",
        "print(Jobs.schema())\n",
        "print(schema_function)"
      ],
      "metadata": {
        "colab": {
          "base_uri": "https://localhost:8080/"
        },
        "outputId": "7de7b05e-490b-4402-aec2-03ad7d9654e3",
        "id": "xwIKuF1JUH4F"
      },
      "execution_count": null,
      "outputs": [
        {
          "output_type": "stream",
          "name": "stdout",
          "text": [
            "{'description': 'Represents the input text job title to be categorized and value being the existing industry value from the list. Include information such as best match for industry classification along with the probability and the second best match for industry classification along with the probability.', 'properties': {'job_title': {'description': 'The input text job title', 'title': 'Job Title', 'type': 'string'}, 'industry_best': {'description': 'The name of the best matching industry from the list provided. Must be in snake_case format.', 'title': 'Industry Best', 'type': 'string'}, 'best_prob': {'description': 'The probability of the best matching industry from the list provided. Must be a decimal between 0 and 1, e.g., 0.90 for 90%.', 'title': 'Best Prob', 'type': 'number'}, 'industry_second': {'description': 'The name of the second best matching industry from the list provided. Must be in snake_case format.', 'title': 'Industry Second', 'type': 'string'}, 'second_prob': {'description': 'The probability of the second best matching industry from the list provided. Must be a decimal between 0 and 1, e.g., 0.90 for 90%.', 'title': 'Second Prob', 'type': 'string'}}, 'required': ['job_title', 'industry_best', 'best_prob', 'industry_second', 'second_prob'], 'title': 'Jobs', 'type': 'object'}\n",
            "{'type': 'function', 'function': {'name': 'categorize_job_title', 'description': 'function for categorizing a job title into an industry of best fit', 'parameters': {'description': 'Represents the input text job title to be categorized and value being the existing industry value from the list. Include information such as best match for industry classification along with the probability and the second best match for industry classification along with the probability.', 'properties': {'job_title': {'description': 'The input text job title', 'title': 'Job Title', 'type': 'string'}, 'industry_best': {'description': 'The name of the best matching industry from the list provided. Must be in snake_case format.', 'title': 'Industry Best', 'type': 'string'}, 'best_prob': {'description': 'The probability of the best matching industry from the list provided. Must be a decimal between 0 and 1, e.g., 0.90 for 90%.', 'title': 'Best Prob', 'type': 'number'}, 'industry_second': {'description': 'The name of the second best matching industry from the list provided. Must be in snake_case format.', 'title': 'Industry Second', 'type': 'string'}, 'second_prob': {'description': 'The probability of the second best matching industry from the list provided. Must be a decimal between 0 and 1, e.g., 0.90 for 90%.', 'title': 'Second Prob', 'type': 'string'}}, 'required': ['job_title', 'industry_best', 'best_prob', 'industry_second', 'second_prob'], 'title': 'Jobs', 'type': 'object'}}}\n"
          ]
        }
      ]
    },
    {
      "cell_type": "markdown",
      "source": [
        "Update the assistant to inlcude the schema function in its tools. We will also include enabling *file_search* to avoid having to update again later."
      ],
      "metadata": {
        "id": "SGE5sck8-Ydu"
      }
    },
    {
      "cell_type": "code",
      "source": [
        "## REDACT THIS BEFORE POSTING\n",
        "## set the assistant id variable with your unique ID to edit the already created assistant\n",
        "assistant_id = 'ASSISTANT ID INFORMATION'\n",
        "\n",
        "assistant = client.beta.assistants.update(\n",
        "    assistant_id=assistant_id,\n",
        "    tools=[\n",
        "        schema_function,\n",
        "        {\"type\": \"file_search\"}\n",
        "        ],\n",
        ")\n",
        "\n",
        "#show_json(assistant)"
      ],
      "metadata": {
        "id": "UMgkNAoUUH4F"
      },
      "execution_count": null,
      "outputs": []
    },
    {
      "cell_type": "markdown",
      "source": [
        "We can now see the pydantic function has been added to our assistant and file_search has been enabled."
      ],
      "metadata": {
        "id": "qng9SToaqhni"
      }
    },
    {
      "cell_type": "markdown",
      "source": [
        "{'id': 'ASSISTANT ID INFORMATION',\n",
        "\n",
        " 'created_at': 1717259654,\n",
        "\n",
        " 'description': None,\n",
        "\n",
        " 'instructions': 'You are a helpful assistant that categorizes job titles by industry.',\n",
        "\n",
        " 'metadata': {},\n",
        "\n",
        " 'model': 'gpt-3.5-turbo',\n",
        "\n",
        " 'name': 'Job Categorization Assistant',\n",
        "\n",
        " 'object': 'assistant',\n",
        "\n",
        " 'tools': [{'function': {'name': 'categorize_job_title',\n",
        "    'description': 'function for categorizing a job title into an industry of best fit',\n",
        "    'parameters': {'description': 'Represents the input text job title to be categorized and value being the existing industry value from the list. Include information such as best match for industry classification along with the probability and the second best match for industry classification along with the probability.',\n",
        "     'properties': {'job_title': {'description': 'The input text job title',\n",
        "       'title': 'Job Title',\n",
        "       'type': 'string'},\n",
        "      'industry_best': {'description': 'The name of the best matching industry from the list provided. Must be in snake_case format.',\n",
        "       'title': 'Industry Best',\n",
        "       'type': 'string'},\n",
        "      'best_prob': {'description': 'The probability of the best matching industry from the list provided. Must be a decimal between 0 and 1, e.g., 0.90 for 90%.',\n",
        "       'title': 'Best Prob',\n",
        "       'type': 'number'},\n",
        "      'industry_second': {'description': 'The name of the second best matching industry from the list provided. Must be in snake_case format.',\n",
        "       'title': 'Industry Second',\n",
        "       'type': 'string'},\n",
        "      'second_prob': {'description': 'The probability of the second best matching industry from the list provided. Must be a decimal between 0 and 1, e.g., 0.90 for 90%.',\n",
        "       'title': 'Second Prob',\n",
        "       'type': 'string'}},\n",
        "     'required': ['job_title',\n",
        "      'industry_best',\n",
        "      'best_prob',\n",
        "      'industry_second',\n",
        "      'second_prob'],\n",
        "     'title': 'Jobs',\n",
        "     'type': 'object'}},\n",
        "   'type': 'function'},\n",
        "  \n",
        "  {'type': 'file_search'}],\n",
        "\n",
        " 'response_format': 'auto',\n",
        "\n",
        " 'temperature': 1.0,\n",
        "\n",
        " 'tool_resources': {'code_interpreter': None,\n",
        "  'file_search': {'vector_store_ids': []}},\n",
        "\n",
        " 'top_p': 1.0}"
      ],
      "metadata": {
        "id": "hPWUoOuyoXuA"
      }
    },
    {
      "cell_type": "markdown",
      "source": [
        "## Add file search"
      ],
      "metadata": {
        "id": "bNXsrF5GGHYs"
      }
    },
    {
      "cell_type": "markdown",
      "source": [
        "Once enabled, the model decides when to retrieve content based on user messages.\n",
        "\n",
        "The file_search tool uses the Vector Store object. We will upload our files and create a Vector Store to contain them. Once the Vector Store is created, we will then poll its status to ensure all files are out of the *in_progress* state."
      ],
      "metadata": {
        "id": "uSf2KVlw9eTO"
      }
    },
    {
      "cell_type": "code",
      "source": [
        "## Create a vector store called \"Job Industry Data\"\n",
        "vector_store = client.beta.vector_stores.create(name=\"Job Industry Data\")\n",
        "\n",
        "## Ready the files for upload to OpenAI\n",
        "file_paths = [\"job_class_info.pdf\", \"examples.pdf\"]\n",
        "file_streams = [open(path, \"rb\") for path in file_paths]\n",
        "\n",
        "## Use the upload and poll SDK helper to upload the files, add them to the vector store,\n",
        "## and poll the status of the file batch for completion.\n",
        "file_batch = client.beta.vector_stores.file_batches.upload_and_poll(\n",
        "  vector_store_id=vector_store.id, files=file_streams\n",
        ")\n",
        "\n",
        "## You can print the status and the file counts of the batch to see the result of this operation.\n",
        "print(file_batch.status)\n",
        "print(file_batch.file_counts)"
      ],
      "metadata": {
        "colab": {
          "base_uri": "https://localhost:8080/"
        },
        "outputId": "1ffac945-faee-4dc2-81d4-984a0e801666",
        "id": "tZIhR0vuUH4F"
      },
      "execution_count": null,
      "outputs": [
        {
          "output_type": "stream",
          "name": "stdout",
          "text": [
            "completed\n",
            "FileCounts(cancelled=0, completed=2, failed=0, in_progress=0, total=2)\n"
          ]
        }
      ]
    },
    {
      "cell_type": "markdown",
      "source": [
        "We then have to update the assistant's *tool_resources* which is where the model accesses our files. We saw above the 2 items were completed and now in the json output we can see the vector store id information."
      ],
      "metadata": {
        "id": "kB7L4h59-DgY"
      }
    },
    {
      "cell_type": "code",
      "source": [
        "assistant = client.beta.assistants.update(\n",
        "  assistant_id=assistant.id,\n",
        "  tool_resources={\"file_search\": {\"vector_store_ids\": [vector_store.id]}},\n",
        ")\n",
        "#show_json(assistant)"
      ],
      "metadata": {
        "id": "Q9e91T-vUH4F"
      },
      "execution_count": null,
      "outputs": []
    },
    {
      "cell_type": "markdown",
      "source": [
        "{'id': 'ASSISTANT ID INFORMATION',\n",
        "\n",
        " 'created_at': 1717259654,\n",
        "\n",
        " 'description': None,\n",
        "\n",
        " 'instructions': 'You are a helpful assistant that categorizes job titles by industry.',\n",
        "\n",
        " 'metadata': {},\n",
        "\n",
        " 'model': 'gpt-3.5-turbo',\n",
        "\n",
        " 'name': 'Job Categorization Assistant',\n",
        "\n",
        " 'object': 'assistant',\n",
        "\n",
        " 'tools': [{'function': {'name': 'categorize_job_title',\n",
        "    'description': 'function for categorizing a job title into an industry of best fit',\n",
        "    'parameters': {'description': 'Represents the input text job title to be categorized and value being the existing industry value from the list. Include information such as best match for industry classification along with the probability and the second best match for industry classification along with the probability.',\n",
        "     'properties': {'job_title': {'description': 'The input text job title',\n",
        "       'title': 'Job Title',\n",
        "       'type': 'string'},\n",
        "      'industry_best': {'description': 'The name of the best matching industry from the list provided. Must be in snake_case format.',\n",
        "       'title': 'Industry Best',\n",
        "       'type': 'string'},\n",
        "      'best_prob': {'description': 'The probability of the best matching industry from the list provided. Must be a decimal between 0 and 1, e.g., 0.90 for 90%.',\n",
        "       'title': 'Best Prob',\n",
        "       'type': 'number'},\n",
        "      'industry_second': {'description': 'The name of the second best matching industry from the list provided. Must be in snake_case format.',\n",
        "       'title': 'Industry Second',\n",
        "       'type': 'string'},\n",
        "      'second_prob': {'description': 'The probability of the second best matching industry from the list provided. Must be a decimal between 0 and 1, e.g., 0.90 for 90%.',\n",
        "       'title': 'Second Prob',\n",
        "       'type': 'string'}},\n",
        "     'required': ['job_title',\n",
        "      'industry_best',\n",
        "      'best_prob',\n",
        "      'industry_second',\n",
        "      'second_prob'],\n",
        "     'title': 'Jobs',\n",
        "     'type': 'object'}},\n",
        "   'type': 'function'},\n",
        "  \n",
        "  {'type': 'file_search'}],\n",
        "\n",
        " 'response_format': 'auto',\n",
        "\n",
        " 'temperature': 1.0,\n",
        "\n",
        " 'tool_resources': {'code_interpreter': None,\n",
        "\n",
        "  'file_search': {'vector_store_ids': ['vs_JyqoDyhv5fCeocJaQlxcFpHl']}},\n",
        "\n",
        " 'top_p': 1.0}"
      ],
      "metadata": {
        "id": "oWHUQxI-rLKn"
      }
    },
    {
      "cell_type": "markdown",
      "source": [
        "## Create thread"
      ],
      "metadata": {
        "id": "ro_GUjFqGME0"
      }
    },
    {
      "cell_type": "markdown",
      "source": [
        "Create a new thread: This will hold the state of our conversation, so we don't have to re-send the entire message history for each request. Remember to save your thread_id information for later use."
      ],
      "metadata": {
        "id": "FRdLNCzeskx_"
      }
    },
    {
      "cell_type": "code",
      "source": [
        "thread = client.beta.threads.create()\n",
        "#show_json(thread)"
      ],
      "metadata": {
        "id": "oU7uM4SqXNKs"
      },
      "execution_count": null,
      "outputs": []
    },
    {
      "cell_type": "markdown",
      "source": [
        "Messages can contain text, images, or file attachments. Message attachments are helper methods that add files to a thread's *tool_resources*. You can also choose to add files to the thread *tool_resources* directly. Let's add a message to our thread.\n",
        "\n",
        "We are going to use the same format of a *user_prompt* from the previous study the create our message for the assistant. The dynamic variable of *input_text* will be each job title as we loop through the dataframe and the *topics_list* is our list of industries to categorize each job title into."
      ],
      "metadata": {
        "id": "j0B6gWvpXqq9"
      }
    },
    {
      "cell_type": "code",
      "source": [
        "## function to create user prompt given the input text and the existing list of topics\n",
        "def create_user_prompt(topics_list, input_text):\n",
        "\n",
        "    user_prompt = f\"\"\"Categorize the job title from a list of industries. You must select a best fitting and second best fitting industry from the list and provide the probability values for each choice. You must pick a best fit and second best fit, even if the choice is unclear. Match the format of the choices from the list (ex. all undercase letters).\n",
        "\n",
        "    Job Title:\n",
        "    {input_text}\n",
        "    List of Industries:\n",
        "    {topics_list}\n",
        "    \"\"\"\n",
        "\n",
        "    return user_prompt"
      ],
      "metadata": {
        "id": "SM_I-U8OUH4F"
      },
      "execution_count": null,
      "outputs": []
    },
    {
      "cell_type": "markdown",
      "source": [
        "We have options for how to send our messages and subsequent runs to the assistant. We could create a list of messages and submit them all at once in a single run. We could also create a singular messages and create a new run for each message. We will use the latter option, as it maintains the format of the previous study. We will submit a message one at a time to GPT asking it to classify a job title into the industry choices provided. This requires waiting until each run is completed before submitting another message, but is a bit less overwhelming than submitting an entire list of 200 items all at once for the model to deal with."
      ],
      "metadata": {
        "id": "6v-rtMWor2MV"
      }
    },
    {
      "cell_type": "code",
      "source": [
        "## define function to create and send a message to the thread\n",
        "def submit_message(assistant_id, thread_id, user_prompt):\n",
        "    ## create the message\n",
        "    client.beta.threads.messages.create(\n",
        "        thread_id=thread.id, role=\"user\", content=user_prompt\n",
        "    )\n",
        "    ## create the run\n",
        "    run = client.beta.threads.runs.create(\n",
        "        thread_id=thread.id,\n",
        "        assistant_id=assistant.id,\n",
        "    )\n",
        "    return run\n",
        "\n",
        "## define a function to return the output messages from the model\n",
        "def get_response(thread):\n",
        "    return client.beta.threads.messages.list(thread_id=thread.id, order=\"asc\")"
      ],
      "metadata": {
        "id": "VDJ3ITPxxeuw"
      },
      "execution_count": null,
      "outputs": []
    },
    {
      "cell_type": "markdown",
      "source": [
        "## Run the job"
      ],
      "metadata": {
        "id": "BS__xNTdIDna"
      }
    },
    {
      "cell_type": "markdown",
      "source": [
        "**Runs are a key difference between the Assistants API and Chat Completions API. While in Chat Completions the model will only ever respond with a single message, in the Assistants API a Run may result in an Assistant using one or multiple tools, and potentially adding multiple messages to the Thread.**\n",
        "\n",
        "A run can also have different status, it is important to be able to handle this properly. We will see this in our code later on when we loop through the list of job titles."
      ],
      "metadata": {
        "id": "00Q1scJLutln"
      }
    },
    {
      "cell_type": "markdown",
      "source": [
        "![diagram-run-statuses-v2.png](data:image/png;base64,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)"
      ],
      "metadata": {
        "id": "vQAW-LDvCPYZ"
      }
    },
    {
      "cell_type": "markdown",
      "source": [
        "*requires_action:* When using the Function calling tool, the Run will move to a required_action state once the model determines the names and arguments of the functions to be called. You must then run those functions and submit the outputs before the run proceeds. If the outputs are not provided before the expires_at timestamp passes (roughly 10 mins past creation), the run will move to an expired status."
      ],
      "metadata": {
        "id": "BkxIAocTNn1H"
      }
    },
    {
      "cell_type": "markdown",
      "source": [
        "Here we create a function that returns values from the GPT output. We are requesting GPT provide a best and second best matching industry, as well as probabilities for each match. An added feature will be to inquire for user intervention if the probability difference between the best match and second best match is less than 15%. This will help identify difficult items for the model and allow users to have some level of oversight, as users may want in a real-world application."
      ],
      "metadata": {
        "id": "yM9gLinao3BC"
      }
    },
    {
      "cell_type": "code",
      "source": [
        "def job_class(arguments, unique_labels_list):\n",
        "    ## Extract individual arguments from the dictionary\n",
        "    job_title = arguments['job_title']\n",
        "    industry_best = arguments['industry_best']\n",
        "    best_prob = float(arguments['best_prob'])\n",
        "    industry_second = arguments['industry_second']\n",
        "    second_prob = float(arguments['second_prob'])\n",
        "\n",
        "    ## Conditional check for user intervention\n",
        "    if best_prob - second_prob < 0.15:\n",
        "        input_text = f\"{job_title} in {industry_best} and {industry_second}\"\n",
        "        while True:\n",
        "            user_feedback = input(f\"I am unsure which industry to categorize {input_text}. I chose {industry_best} with a probability of {best_prob}. Please provide the correct label, or hit enter to accept: \").strip()\n",
        "\n",
        "            if not user_feedback:  ## User pressed enter without providing a value, keep label as is\n",
        "                print(\"User accepted the chosen label.\")\n",
        "                break\n",
        "\n",
        "            if user_feedback in unique_labels_list:  ## Check if the entered value is in the unique_labels_list\n",
        "                ## update the value\n",
        "                industry_best = user_feedback\n",
        "                break\n",
        "            else:\n",
        "                print(\"Invalid label. Please provide a label from the list:\", unique_labels_list)\n",
        "\n",
        "\n",
        "    ## Return the dictionary with the possibly updated industry_best\n",
        "    return {\n",
        "        'job_title': job_title,\n",
        "        'industry_best': industry_best,\n",
        "        'best_prob': best_prob,\n",
        "        'industry_second': industry_second,\n",
        "        'second_prob': second_prob\n",
        "    }"
      ],
      "metadata": {
        "id": "b72VnIaou2gx"
      },
      "execution_count": null,
      "outputs": []
    },
    {
      "cell_type": "code",
      "source": [
        "## printing helper\n",
        "def pretty_print(messages):\n",
        "    print(\"# Messages\")\n",
        "    for m in messages:\n",
        "        print(f\"{m.role}: {m.content[0].text.value}\")\n",
        "    print()"
      ],
      "metadata": {
        "id": "JA0H5G5NPtzJ"
      },
      "execution_count": null,
      "outputs": []
    },
    {
      "cell_type": "markdown",
      "source": [
        "Here is where we will loop through each item in our dataframe of job titles and ask the GPT assistant to categorize them by industry. This loop contains conditional statements to ensure each job has completed before submitting another request. When a tool requires action, we will call the appropriate function that takes the output and updates the predictions dataframe. At the end we will show a sample output from GPT to see how it looks. Just as in the previous study, the output for all 200 items is quite lengthy, so only a sample will be shown."
      ],
      "metadata": {
        "id": "b5WjdHl_IMYI"
      }
    },
    {
      "cell_type": "code",
      "source": [
        "## function to retrieve updated run data from a specific thread\n",
        "def retrieve_run(thread_id, run_id):\n",
        "\n",
        "    run = client.beta.threads.runs.retrieve(\n",
        "        thread_id=thread_id,\n",
        "        run_id=run_id,\n",
        "    )\n",
        "    return run"
      ],
      "metadata": {
        "id": "P6dev-2fuilJ"
      },
      "execution_count": null,
      "outputs": []
    },
    {
      "cell_type": "code",
      "source": [
        "## loop through the text column in the test_df\n",
        "for i, text in enumerate(gpt_preds_df['text']):\n",
        "    print(\"Job Title: \", text)\n",
        "    ## use a while loop to run the loop continuously until a valid response is obtained from GPT\n",
        "    while True:\n",
        "        try:\n",
        "            ## run the user_prompt function, inputting the list of industries and the job title to be categorized\n",
        "            user_prompt = create_user_prompt(unique_labels_list, text)\n",
        "            ## submit message with updated user prompt and create a run, returns a run\n",
        "            run = submit_message(assistant.id, thread.id, user_prompt)\n",
        "            ## check the status of the run and make decisions based on status\n",
        "            while True:\n",
        "                if run.status == \"queued\" or run.status == \"in_progress\":\n",
        "                    ## retrieve updates run status with function that delays 2 seconds\n",
        "                    run = retrieve_run(thread.id, run.id)\n",
        "                    time.sleep(2)  ## Pause for 2 seconds to avoid nonstop inquiries to GPT\n",
        "                ## if run status requires action (function call)\n",
        "                elif run.status == \"requires_action\":\n",
        "                    ## extract information about the tool call and arguments\n",
        "                    tool_call = run.required_action.submit_tool_outputs.tool_calls[0]\n",
        "                    name = tool_call.function.name\n",
        "                    arguments = json.loads(tool_call.function.arguments)\n",
        "                    #print(\"Function Name: \", name)\n",
        "                    #print(\"Function Arguments: \", arguments)\n",
        "                    ## run the function that accepts the output from our pydantic schema and set variables\n",
        "                    extracted_arguments = job_class(arguments, unique_labels_list)\n",
        "                    ## update the predictions df\n",
        "                    gpt_preds_df.at[i, 'predicted_label'] = extracted_arguments['industry_best']\n",
        "                    gpt_preds_df.at[i, 'best_prob'] = extracted_arguments['best_prob']\n",
        "                    gpt_preds_df.at[i, 'industry_second'] = extracted_arguments['industry_second']\n",
        "                    gpt_preds_df.at[i, 'second_prob'] = extracted_arguments['second_prob']\n",
        "                    #print(\"Responses: \", extracted_arguments)\n",
        "                    ## submit responses back to the assistant\n",
        "                    run = client.beta.threads.runs.submit_tool_outputs(\n",
        "                        thread_id=thread.id,\n",
        "                        run_id=run.id,\n",
        "                        tool_outputs=[\n",
        "                            {\n",
        "                                \"tool_call_id\": tool_call.id,\n",
        "                                \"output\": json.dumps(extracted_arguments),\n",
        "                            }\n",
        "                        ],\n",
        "                    )\n",
        "                    #print(\"Show JSON: \")\n",
        "                    #show_json(run)\n",
        "                    ## wait for run to complete\n",
        "                    while True:\n",
        "                        if run.status == \"queued\" or run.status == \"in_progress\":\n",
        "                            ## retrieve updates run status with function that delays 2 seconds\n",
        "                            run = retrieve_run(thread.id, run.id)\n",
        "                            time.sleep(2)  ## Pause for 2 seconds to avoid nonstop inquiries to GPT\n",
        "                        else:\n",
        "                            break\n",
        "                    ## run the function to list the response messages from the model\n",
        "                    print(\"Get Reponse Thread: \")\n",
        "                    pretty_print(get_response(thread))\n",
        "                else:\n",
        "                    #print(\"Run Status: \")\n",
        "                    #print(run.status)\n",
        "                    break\n",
        "            break ## exit the status while loop\n",
        "        ## GPT restricts users by setting a rate limit. If a RateLimitError occurs, pause for a minute and continue\n",
        "        except Exception as e:\n",
        "            print(f\"An error occurred: {e}\")\n",
        "            if \"Rate limit exceeded\" in str(e):\n",
        "                print(f\"Rate limit exceeded. Waiting for 60 seconds to retry\")\n",
        "                time.sleep(60)\n",
        "            else:\n",
        "                break  ## Exit the loop for other exceptions"
      ],
      "metadata": {
        "id": "LDUXMHuAy-DD",
        "collapsed": true
      },
      "execution_count": null,
      "outputs": []
    },
    {
      "cell_type": "markdown",
      "source": [
        "Sample Output:\n",
        "\n",
        "\"user: Categorize the job title from a list of industries. You must select a best fitting and second best fitting industry from the list and provide the probability values for each choice. You must pick a best fit and second best fit, even if the choice is unclear. Match the format of the choices from the list (ex. all undercase letters).\n",
        "\n",
        "  Job Title:\n",
        "  Loan Officer\n",
        "  \n",
        "  List of Industries:\n",
        "  ['education', 'technology', 'retail_hospitality', 'marketing_advertising', 'drama_arts', 'legal', 'healthcare', 'finance']\n",
        "\n",
        "assistant: The job title \"Loan Officer\" is categorized as follows:\n",
        "\n",
        "- Best Fit Industry: finance (with a probability of 0.9)\n",
        "- Second Best Fit Industry: retail_hospitality (with a probability of 0.6)\""
      ],
      "metadata": {
        "id": "2xv8I0zbPNoi"
      }
    },
    {
      "cell_type": "markdown",
      "source": [
        "We found this process to take about an hour, much longer than simply submitting each item to the API without any assistants. We also found that if the human intervention function is to be included, it is important to try out different conditions for intervention to see what works best for your task. Occasionally, the model would ask for assistance with a best_prob of over 95%, which might be better off left to its own devices. We also noticed it gets into routines where it asks for assistance on many prompts in bunches and then operates independently in bunches. That function was still found to be useful for correcting decisions and also by providing insight into the model performance. Now let's see if that extra time and effort was worth it in terms of performance."
      ],
      "metadata": {
        "id": "AoYYz9v3MuIa"
      }
    },
    {
      "cell_type": "markdown",
      "source": [
        "Here we will load in our predictions dataframe that was created when the previous cell was run. This step is not necessary if the previous loop was run in the current session. It takes a while to loop through the entire test data and can also be costly, so to save resources we will load a previosuly created predictions dataframe to test the accuracy in this notebook."
      ],
      "metadata": {
        "id": "0vUggSR3pxCH"
      }
    },
    {
      "cell_type": "code",
      "source": [
        "## load in the previously created predictions dataframe\n",
        "gpt_preds_df = pd.read_csv('predictions_gpt3.5_agents_final.csv')"
      ],
      "metadata": {
        "id": "wRc1KebpptiK"
      },
      "execution_count": null,
      "outputs": []
    },
    {
      "cell_type": "code",
      "source": [
        "gpt_preds_df.head()"
      ],
      "metadata": {
        "colab": {
          "base_uri": "https://localhost:8080/",
          "height": 206
        },
        "id": "hBfIzvnPT2WJ",
        "outputId": "cde29997-74eb-499d-e0f6-4a56f737a97c"
      },
      "execution_count": null,
      "outputs": [
        {
          "output_type": "execute_result",
          "data": {
            "text/plain": [
              "                   label                             text     predicted_label  \\\n",
              "0              education  Education Technology Specialist          technology   \n",
              "1             technology        Incident Response Analyst          technology   \n",
              "2     retail_hospitality           Spa Operations Manager  retail_hospitality   \n",
              "3  marketing_advertising                     Data Analyst          technology   \n",
              "4             drama_arts                   Hair Assistant  retail_hospitality   \n",
              "\n",
              "   best_prob industry_second  second_prob  \n",
              "0        0.8       education          0.6  \n",
              "1        0.7           legal          0.5  \n",
              "2        0.9      healthcare          0.6  \n",
              "3        0.9         finance          0.7  \n",
              "4        0.9      drama_arts          0.6  "
            ],
            "text/html": [
              "\n",
              "  <div id=\"df-3a358fdb-29fe-4e56-b996-0ffab39a5f17\" class=\"colab-df-container\">\n",
              "    <div>\n",
              "<style scoped>\n",
              "    .dataframe tbody tr th:only-of-type {\n",
              "        vertical-align: middle;\n",
              "    }\n",
              "\n",
              "    .dataframe tbody tr th {\n",
              "        vertical-align: top;\n",
              "    }\n",
              "\n",
              "    .dataframe thead th {\n",
              "        text-align: right;\n",
              "    }\n",
              "</style>\n",
              "<table border=\"1\" class=\"dataframe\">\n",
              "  <thead>\n",
              "    <tr style=\"text-align: right;\">\n",
              "      <th></th>\n",
              "      <th>label</th>\n",
              "      <th>text</th>\n",
              "      <th>predicted_label</th>\n",
              "      <th>best_prob</th>\n",
              "      <th>industry_second</th>\n",
              "      <th>second_prob</th>\n",
              "    </tr>\n",
              "  </thead>\n",
              "  <tbody>\n",
              "    <tr>\n",
              "      <th>0</th>\n",
              "      <td>education</td>\n",
              "      <td>Education Technology Specialist</td>\n",
              "      <td>technology</td>\n",
              "      <td>0.8</td>\n",
              "      <td>education</td>\n",
              "      <td>0.6</td>\n",
              "    </tr>\n",
              "    <tr>\n",
              "      <th>1</th>\n",
              "      <td>technology</td>\n",
              "      <td>Incident Response Analyst</td>\n",
              "      <td>technology</td>\n",
              "      <td>0.7</td>\n",
              "      <td>legal</td>\n",
              "      <td>0.5</td>\n",
              "    </tr>\n",
              "    <tr>\n",
              "      <th>2</th>\n",
              "      <td>retail_hospitality</td>\n",
              "      <td>Spa Operations Manager</td>\n",
              "      <td>retail_hospitality</td>\n",
              "      <td>0.9</td>\n",
              "      <td>healthcare</td>\n",
              "      <td>0.6</td>\n",
              "    </tr>\n",
              "    <tr>\n",
              "      <th>3</th>\n",
              "      <td>marketing_advertising</td>\n",
              "      <td>Data Analyst</td>\n",
              "      <td>technology</td>\n",
              "      <td>0.9</td>\n",
              "      <td>finance</td>\n",
              "      <td>0.7</td>\n",
              "    </tr>\n",
              "    <tr>\n",
              "      <th>4</th>\n",
              "      <td>drama_arts</td>\n",
              "      <td>Hair Assistant</td>\n",
              "      <td>retail_hospitality</td>\n",
              "      <td>0.9</td>\n",
              "      <td>drama_arts</td>\n",
              "      <td>0.6</td>\n",
              "    </tr>\n",
              "  </tbody>\n",
              "</table>\n",
              "</div>\n",
              "    <div class=\"colab-df-buttons\">\n",
              "\n",
              "  <div class=\"colab-df-container\">\n",
              "    <button class=\"colab-df-convert\" onclick=\"convertToInteractive('df-3a358fdb-29fe-4e56-b996-0ffab39a5f17')\"\n",
              "            title=\"Convert this dataframe to an interactive table.\"\n",
              "            style=\"display:none;\">\n",
              "\n",
              "  <svg xmlns=\"http://www.w3.org/2000/svg\" height=\"24px\" viewBox=\"0 -960 960 960\">\n",
              "    <path d=\"M120-120v-720h720v720H120Zm60-500h600v-160H180v160Zm220 220h160v-160H400v160Zm0 220h160v-160H400v160ZM180-400h160v-160H180v160Zm440 0h160v-160H620v160ZM180-180h160v-160H180v160Zm440 0h160v-160H620v160Z\"/>\n",
              "  </svg>\n",
              "    </button>\n",
              "\n",
              "  <style>\n",
              "    .colab-df-container {\n",
              "      display:flex;\n",
              "      gap: 12px;\n",
              "    }\n",
              "\n",
              "    .colab-df-convert {\n",
              "      background-color: #E8F0FE;\n",
              "      border: none;\n",
              "      border-radius: 50%;\n",
              "      cursor: pointer;\n",
              "      display: none;\n",
              "      fill: #1967D2;\n",
              "      height: 32px;\n",
              "      padding: 0 0 0 0;\n",
              "      width: 32px;\n",
              "    }\n",
              "\n",
              "    .colab-df-convert:hover {\n",
              "      background-color: #E2EBFA;\n",
              "      box-shadow: 0px 1px 2px rgba(60, 64, 67, 0.3), 0px 1px 3px 1px rgba(60, 64, 67, 0.15);\n",
              "      fill: #174EA6;\n",
              "    }\n",
              "\n",
              "    .colab-df-buttons div {\n",
              "      margin-bottom: 4px;\n",
              "    }\n",
              "\n",
              "    [theme=dark] .colab-df-convert {\n",
              "      background-color: #3B4455;\n",
              "      fill: #D2E3FC;\n",
              "    }\n",
              "\n",
              "    [theme=dark] .colab-df-convert:hover {\n",
              "      background-color: #434B5C;\n",
              "      box-shadow: 0px 1px 3px 1px rgba(0, 0, 0, 0.15);\n",
              "      filter: drop-shadow(0px 1px 2px rgba(0, 0, 0, 0.3));\n",
              "      fill: #FFFFFF;\n",
              "    }\n",
              "  </style>\n",
              "\n",
              "    <script>\n",
              "      const buttonEl =\n",
              "        document.querySelector('#df-3a358fdb-29fe-4e56-b996-0ffab39a5f17 button.colab-df-convert');\n",
              "      buttonEl.style.display =\n",
              "        google.colab.kernel.accessAllowed ? 'block' : 'none';\n",
              "\n",
              "      async function convertToInteractive(key) {\n",
              "        const element = document.querySelector('#df-3a358fdb-29fe-4e56-b996-0ffab39a5f17');\n",
              "        const dataTable =\n",
              "          await google.colab.kernel.invokeFunction('convertToInteractive',\n",
              "                                                    [key], {});\n",
              "        if (!dataTable) return;\n",
              "\n",
              "        const docLinkHtml = 'Like what you see? Visit the ' +\n",
              "          '<a target=\"_blank\" href=https://colab.research.google.com/notebooks/data_table.ipynb>data table notebook</a>'\n",
              "          + ' to learn more about interactive tables.';\n",
              "        element.innerHTML = '';\n",
              "        dataTable['output_type'] = 'display_data';\n",
              "        await google.colab.output.renderOutput(dataTable, element);\n",
              "        const docLink = document.createElement('div');\n",
              "        docLink.innerHTML = docLinkHtml;\n",
              "        element.appendChild(docLink);\n",
              "      }\n",
              "    </script>\n",
              "  </div>\n",
              "\n",
              "\n",
              "<div id=\"df-2c5c8b79-f27e-4c18-9df4-def0064599b9\">\n",
              "  <button class=\"colab-df-quickchart\" onclick=\"quickchart('df-2c5c8b79-f27e-4c18-9df4-def0064599b9')\"\n",
              "            title=\"Suggest charts\"\n",
              "            style=\"display:none;\">\n",
              "\n",
              "<svg xmlns=\"http://www.w3.org/2000/svg\" height=\"24px\"viewBox=\"0 0 24 24\"\n",
              "     width=\"24px\">\n",
              "    <g>\n",
              "        <path d=\"M19 3H5c-1.1 0-2 .9-2 2v14c0 1.1.9 2 2 2h14c1.1 0 2-.9 2-2V5c0-1.1-.9-2-2-2zM9 17H7v-7h2v7zm4 0h-2V7h2v10zm4 0h-2v-4h2v4z\"/>\n",
              "    </g>\n",
              "</svg>\n",
              "  </button>\n",
              "\n",
              "<style>\n",
              "  .colab-df-quickchart {\n",
              "      --bg-color: #E8F0FE;\n",
              "      --fill-color: #1967D2;\n",
              "      --hover-bg-color: #E2EBFA;\n",
              "      --hover-fill-color: #174EA6;\n",
              "      --disabled-fill-color: #AAA;\n",
              "      --disabled-bg-color: #DDD;\n",
              "  }\n",
              "\n",
              "  [theme=dark] .colab-df-quickchart {\n",
              "      --bg-color: #3B4455;\n",
              "      --fill-color: #D2E3FC;\n",
              "      --hover-bg-color: #434B5C;\n",
              "      --hover-fill-color: #FFFFFF;\n",
              "      --disabled-bg-color: #3B4455;\n",
              "      --disabled-fill-color: #666;\n",
              "  }\n",
              "\n",
              "  .colab-df-quickchart {\n",
              "    background-color: var(--bg-color);\n",
              "    border: none;\n",
              "    border-radius: 50%;\n",
              "    cursor: pointer;\n",
              "    display: none;\n",
              "    fill: var(--fill-color);\n",
              "    height: 32px;\n",
              "    padding: 0;\n",
              "    width: 32px;\n",
              "  }\n",
              "\n",
              "  .colab-df-quickchart:hover {\n",
              "    background-color: var(--hover-bg-color);\n",
              "    box-shadow: 0 1px 2px rgba(60, 64, 67, 0.3), 0 1px 3px 1px rgba(60, 64, 67, 0.15);\n",
              "    fill: var(--button-hover-fill-color);\n",
              "  }\n",
              "\n",
              "  .colab-df-quickchart-complete:disabled,\n",
              "  .colab-df-quickchart-complete:disabled:hover {\n",
              "    background-color: var(--disabled-bg-color);\n",
              "    fill: var(--disabled-fill-color);\n",
              "    box-shadow: none;\n",
              "  }\n",
              "\n",
              "  .colab-df-spinner {\n",
              "    border: 2px solid var(--fill-color);\n",
              "    border-color: transparent;\n",
              "    border-bottom-color: var(--fill-color);\n",
              "    animation:\n",
              "      spin 1s steps(1) infinite;\n",
              "  }\n",
              "\n",
              "  @keyframes spin {\n",
              "    0% {\n",
              "      border-color: transparent;\n",
              "      border-bottom-color: var(--fill-color);\n",
              "      border-left-color: var(--fill-color);\n",
              "    }\n",
              "    20% {\n",
              "      border-color: transparent;\n",
              "      border-left-color: var(--fill-color);\n",
              "      border-top-color: var(--fill-color);\n",
              "    }\n",
              "    30% {\n",
              "      border-color: transparent;\n",
              "      border-left-color: var(--fill-color);\n",
              "      border-top-color: var(--fill-color);\n",
              "      border-right-color: var(--fill-color);\n",
              "    }\n",
              "    40% {\n",
              "      border-color: transparent;\n",
              "      border-right-color: var(--fill-color);\n",
              "      border-top-color: var(--fill-color);\n",
              "    }\n",
              "    60% {\n",
              "      border-color: transparent;\n",
              "      border-right-color: var(--fill-color);\n",
              "    }\n",
              "    80% {\n",
              "      border-color: transparent;\n",
              "      border-right-color: var(--fill-color);\n",
              "      border-bottom-color: var(--fill-color);\n",
              "    }\n",
              "    90% {\n",
              "      border-color: transparent;\n",
              "      border-bottom-color: var(--fill-color);\n",
              "    }\n",
              "  }\n",
              "</style>\n",
              "\n",
              "  <script>\n",
              "    async function quickchart(key) {\n",
              "      const quickchartButtonEl =\n",
              "        document.querySelector('#' + key + ' button');\n",
              "      quickchartButtonEl.disabled = true;  // To prevent multiple clicks.\n",
              "      quickchartButtonEl.classList.add('colab-df-spinner');\n",
              "      try {\n",
              "        const charts = await google.colab.kernel.invokeFunction(\n",
              "            'suggestCharts', [key], {});\n",
              "      } catch (error) {\n",
              "        console.error('Error during call to suggestCharts:', error);\n",
              "      }\n",
              "      quickchartButtonEl.classList.remove('colab-df-spinner');\n",
              "      quickchartButtonEl.classList.add('colab-df-quickchart-complete');\n",
              "    }\n",
              "    (() => {\n",
              "      let quickchartButtonEl =\n",
              "        document.querySelector('#df-2c5c8b79-f27e-4c18-9df4-def0064599b9 button');\n",
              "      quickchartButtonEl.style.display =\n",
              "        google.colab.kernel.accessAllowed ? 'block' : 'none';\n",
              "    })();\n",
              "  </script>\n",
              "</div>\n",
              "\n",
              "    </div>\n",
              "  </div>\n"
            ],
            "application/vnd.google.colaboratory.intrinsic+json": {
              "type": "dataframe",
              "variable_name": "gpt_preds_df",
              "summary": "{\n  \"name\": \"gpt_preds_df\",\n  \"rows\": 200,\n  \"fields\": [\n    {\n      \"column\": \"label\",\n      \"properties\": {\n        \"dtype\": \"category\",\n        \"num_unique_values\": 8,\n        \"samples\": [\n          \"technology\",\n          \"legal\",\n          \"education\"\n        ],\n        \"semantic_type\": \"\",\n        \"description\": \"\"\n      }\n    },\n    {\n      \"column\": \"text\",\n      \"properties\": {\n        \"dtype\": \"string\",\n        \"num_unique_values\": 200,\n        \"samples\": [\n          \"Elementary School Teacher\",\n          \"Medical Laboratory Technician\",\n          \"Actor/Actress\"\n        ],\n        \"semantic_type\": \"\",\n        \"description\": \"\"\n      }\n    },\n    {\n      \"column\": \"predicted_label\",\n      \"properties\": {\n        \"dtype\": \"category\",\n        \"num_unique_values\": 8,\n        \"samples\": [\n          \"retail_hospitality\",\n          \"education\",\n          \"technology\"\n        ],\n        \"semantic_type\": \"\",\n        \"description\": \"\"\n      }\n    },\n    {\n      \"column\": \"best_prob\",\n      \"properties\": {\n        \"dtype\": \"number\",\n        \"std\": 0.06480732944466036,\n        \"min\": 0.6,\n        \"max\": 0.99,\n        \"num_unique_values\": 11,\n        \"samples\": [\n          0.98,\n          0.8,\n          0.91\n        ],\n        \"semantic_type\": \"\",\n        \"description\": \"\"\n      }\n    },\n    {\n      \"column\": \"industry_second\",\n      \"properties\": {\n        \"dtype\": \"category\",\n        \"num_unique_values\": 10,\n        \"samples\": [\n          \"business\",\n          \"legal\",\n          \"technology\"\n        ],\n        \"semantic_type\": \"\",\n        \"description\": \"\"\n      }\n    },\n    {\n      \"column\": \"second_prob\",\n      \"properties\": {\n        \"dtype\": \"number\",\n        \"std\": 0.2822384990602076,\n        \"min\": 0.01,\n        \"max\": 0.92,\n        \"num_unique_values\": 22,\n        \"samples\": [\n          0.6,\n          0.2,\n          0.89\n        ],\n        \"semantic_type\": \"\",\n        \"description\": \"\"\n      }\n    }\n  ]\n}"
            }
          },
          "metadata": {},
          "execution_count": 25
        }
      ]
    },
    {
      "cell_type": "markdown",
      "source": [
        "## Test accuracy"
      ],
      "metadata": {
        "id": "cgK6qHDI8jQW"
      }
    },
    {
      "cell_type": "code",
      "source": [
        "## function for testing accuracy of predictions\n",
        "def test_set_accuracy(test_df):\n",
        "  accuracy = (test_df['predicted_label'] == test_df['label']).mean()\n",
        "  print(f\"Accuracy: {accuracy}\")"
      ],
      "metadata": {
        "id": "o0H-eNz7UH4G"
      },
      "execution_count": null,
      "outputs": []
    },
    {
      "cell_type": "code",
      "source": [
        "test_set_accuracy(gpt_preds_df)"
      ],
      "metadata": {
        "id": "Sj_BGhteUH4G",
        "colab": {
          "base_uri": "https://localhost:8080/"
        },
        "outputId": "d51f2ea6-215f-4a8d-ffb4-49f6e9fd3b56"
      },
      "execution_count": null,
      "outputs": [
        {
          "output_type": "stream",
          "name": "stdout",
          "text": [
            "Accuracy: 0.955\n"
          ]
        }
      ]
    },
    {
      "cell_type": "markdown",
      "source": [
        "During testing, we found a few issues with the assistant performance. The following are helpful methods to troubleshoot in order to optimize prompt engineering and get the most out of the model."
      ],
      "metadata": {
        "id": "hYB_SPdk2fQD"
      }
    },
    {
      "cell_type": "markdown",
      "source": [
        "First we noticed that GPT was providing different formats for the probability values. This ranged from the percentage value (90%) to the decimal value (0.9) to an integer (90). This was initially discovered by creating a histogram to show the values and discovering out of range values on the chart. After viewing the histogram, we added additional context to the pydantic funciton to ensure consistent output."
      ],
      "metadata": {
        "id": "dWpCUv0V2pEe"
      }
    },
    {
      "cell_type": "code",
      "source": [
        "import matplotlib.pyplot as plt\n",
        "\n",
        "## Plot histogram for the 'Values' column\n",
        "plt.hist(gpt_preds_df['best_prob'], bins=10, color='blue', edgecolor='black')\n",
        "\n",
        "## Add labels and title\n",
        "plt.xlabel('Value')\n",
        "plt.ylabel('Frequency')\n",
        "plt.title('Histogram of Values')\n",
        "\n",
        "## Show the plot\n",
        "plt.show()"
      ],
      "metadata": {
        "colab": {
          "base_uri": "https://localhost:8080/",
          "height": 472
        },
        "id": "dFIfj6DdPD9Z",
        "outputId": "4e5f0b44-09d3-4c86-8b06-73c407cc3501"
      },
      "execution_count": null,
      "outputs": [
        {
          "output_type": "display_data",
          "data": {
            "text/plain": [
              "<Figure size 640x480 with 1 Axes>"
            ],
            "image/png": "[encoded data removed]"
          },
          "metadata": {}
        }
      ]
    },
    {
      "cell_type": "code",
      "source": [
        "## save predictions as csv\n",
        "gpt_preds_df.to_csv('predictions_gpt3.5_agents_final.csv', index=False)"
      ],
      "metadata": {
        "id": "S-jf5gj2UH4G"
      },
      "execution_count": null,
      "outputs": []
    },
    {
      "cell_type": "markdown",
      "source": [
        "Below is a way to identify the still incorrect labels. This is a good way to identify specific problem areas. Perhaps the model struggles with a certain category (ex. drama_arts) or after running multiple times the same few job titles are almost always mislabeled. These can be identified by creating a table of mismatched predictions for higher visibility to the user."
      ],
      "metadata": {
        "id": "OISnwy-O3Aef"
      }
    },
    {
      "cell_type": "code",
      "source": [
        "mismatch_df = gpt_preds_df[gpt_preds_df['label'] != gpt_preds_df['predicted_label']]\n",
        "mismatch_df"
      ],
      "metadata": {
        "colab": {
          "base_uri": "https://localhost:8080/",
          "height": 331
        },
        "id": "OeZzQhR3N6zk",
        "outputId": "ce215d84-97f9-49a1-ef02-5c071a13c717"
      },
      "execution_count": null,
      "outputs": [
        {
          "output_type": "execute_result",
          "data": {
            "text/plain": [
              "                     label                             text  \\\n",
              "0                education  Education Technology Specialist   \n",
              "3    marketing_advertising                     Data Analyst   \n",
              "4               drama_arts                   Hair Assistant   \n",
              "10              drama_arts              Publicity Assistant   \n",
              "48              drama_arts                     Video Editor   \n",
              "143             drama_arts             Box Office Assistant   \n",
              "146                  legal            Forensic Psychologist   \n",
              "147  marketing_advertising                   UX/UI Designer   \n",
              "196     retail_hospitality        Entertainment Coordinator   \n",
              "\n",
              "           predicted_label  best_prob        industry_second  second_prob  \n",
              "0               technology       0.80              education         0.60  \n",
              "3               technology       0.90                finance         0.70  \n",
              "4       retail_hospitality       0.90             drama_arts         0.60  \n",
              "10   marketing_advertising       0.80             drama_arts         0.60  \n",
              "48              technology       0.90             drama_arts         0.70  \n",
              "143     retail_hospitality       0.60             drama_arts         0.25  \n",
              "146             healthcare       0.95                  legal         0.05  \n",
              "147             technology       0.80  marketing_advertising         0.15  \n",
              "196             drama_arts       0.95     retail_hospitality         0.04  "
            ],
            "text/html": [
              "\n",
              "  <div id=\"df-08a454f8-a4e7-40d4-a44e-c753003a0215\" class=\"colab-df-container\">\n",
              "    <div>\n",
              "<style scoped>\n",
              "    .dataframe tbody tr th:only-of-type {\n",
              "        vertical-align: middle;\n",
              "    }\n",
              "\n",
              "    .dataframe tbody tr th {\n",
              "        vertical-align: top;\n",
              "    }\n",
              "\n",
              "    .dataframe thead th {\n",
              "        text-align: right;\n",
              "    }\n",
              "</style>\n",
              "<table border=\"1\" class=\"dataframe\">\n",
              "  <thead>\n",
              "    <tr style=\"text-align: right;\">\n",
              "      <th></th>\n",
              "      <th>label</th>\n",
              "      <th>text</th>\n",
              "      <th>predicted_label</th>\n",
              "      <th>best_prob</th>\n",
              "      <th>industry_second</th>\n",
              "      <th>second_prob</th>\n",
              "    </tr>\n",
              "  </thead>\n",
              "  <tbody>\n",
              "    <tr>\n",
              "      <th>0</th>\n",
              "      <td>education</td>\n",
              "      <td>Education Technology Specialist</td>\n",
              "      <td>technology</td>\n",
              "      <td>0.80</td>\n",
              "      <td>education</td>\n",
              "      <td>0.60</td>\n",
              "    </tr>\n",
              "    <tr>\n",
              "      <th>3</th>\n",
              "      <td>marketing_advertising</td>\n",
              "      <td>Data Analyst</td>\n",
              "      <td>technology</td>\n",
              "      <td>0.90</td>\n",
              "      <td>finance</td>\n",
              "      <td>0.70</td>\n",
              "    </tr>\n",
              "    <tr>\n",
              "      <th>4</th>\n",
              "      <td>drama_arts</td>\n",
              "      <td>Hair Assistant</td>\n",
              "      <td>retail_hospitality</td>\n",
              "      <td>0.90</td>\n",
              "      <td>drama_arts</td>\n",
              "      <td>0.60</td>\n",
              "    </tr>\n",
              "    <tr>\n",
              "      <th>10</th>\n",
              "      <td>drama_arts</td>\n",
              "      <td>Publicity Assistant</td>\n",
              "      <td>marketing_advertising</td>\n",
              "      <td>0.80</td>\n",
              "      <td>drama_arts</td>\n",
              "      <td>0.60</td>\n",
              "    </tr>\n",
              "    <tr>\n",
              "      <th>48</th>\n",
              "      <td>drama_arts</td>\n",
              "      <td>Video Editor</td>\n",
              "      <td>technology</td>\n",
              "      <td>0.90</td>\n",
              "      <td>drama_arts</td>\n",
              "      <td>0.70</td>\n",
              "    </tr>\n",
              "    <tr>\n",
              "      <th>143</th>\n",
              "      <td>drama_arts</td>\n",
              "      <td>Box Office Assistant</td>\n",
              "      <td>retail_hospitality</td>\n",
              "      <td>0.60</td>\n",
              "      <td>drama_arts</td>\n",
              "      <td>0.25</td>\n",
              "    </tr>\n",
              "    <tr>\n",
              "      <th>146</th>\n",
              "      <td>legal</td>\n",
              "      <td>Forensic Psychologist</td>\n",
              "      <td>healthcare</td>\n",
              "      <td>0.95</td>\n",
              "      <td>legal</td>\n",
              "      <td>0.05</td>\n",
              "    </tr>\n",
              "    <tr>\n",
              "      <th>147</th>\n",
              "      <td>marketing_advertising</td>\n",
              "      <td>UX/UI Designer</td>\n",
              "      <td>technology</td>\n",
              "      <td>0.80</td>\n",
              "      <td>marketing_advertising</td>\n",
              "      <td>0.15</td>\n",
              "    </tr>\n",
              "    <tr>\n",
              "      <th>196</th>\n",
              "      <td>retail_hospitality</td>\n",
              "      <td>Entertainment Coordinator</td>\n",
              "      <td>drama_arts</td>\n",
              "      <td>0.95</td>\n",
              "      <td>retail_hospitality</td>\n",
              "      <td>0.04</td>\n",
              "    </tr>\n",
              "  </tbody>\n",
              "</table>\n",
              "</div>\n",
              "    <div class=\"colab-df-buttons\">\n",
              "\n",
              "  <div class=\"colab-df-container\">\n",
              "    <button class=\"colab-df-convert\" onclick=\"convertToInteractive('df-08a454f8-a4e7-40d4-a44e-c753003a0215')\"\n",
              "            title=\"Convert this dataframe to an interactive table.\"\n",
              "            style=\"display:none;\">\n",
              "\n",
              "  <svg xmlns=\"http://www.w3.org/2000/svg\" height=\"24px\" viewBox=\"0 -960 960 960\">\n",
              "    <path d=\"M120-120v-720h720v720H120Zm60-500h600v-160H180v160Zm220 220h160v-160H400v160Zm0 220h160v-160H400v160ZM180-400h160v-160H180v160Zm440 0h160v-160H620v160ZM180-180h160v-160H180v160Zm440 0h160v-160H620v160Z\"/>\n",
              "  </svg>\n",
              "    </button>\n",
              "\n",
              "  <style>\n",
              "    .colab-df-container {\n",
              "      display:flex;\n",
              "      gap: 12px;\n",
              "    }\n",
              "\n",
              "    .colab-df-convert {\n",
              "      background-color: #E8F0FE;\n",
              "      border: none;\n",
              "      border-radius: 50%;\n",
              "      cursor: pointer;\n",
              "      display: none;\n",
              "      fill: #1967D2;\n",
              "      height: 32px;\n",
              "      padding: 0 0 0 0;\n",
              "      width: 32px;\n",
              "    }\n",
              "\n",
              "    .colab-df-convert:hover {\n",
              "      background-color: #E2EBFA;\n",
              "      box-shadow: 0px 1px 2px rgba(60, 64, 67, 0.3), 0px 1px 3px 1px rgba(60, 64, 67, 0.15);\n",
              "      fill: #174EA6;\n",
              "    }\n",
              "\n",
              "    .colab-df-buttons div {\n",
              "      margin-bottom: 4px;\n",
              "    }\n",
              "\n",
              "    [theme=dark] .colab-df-convert {\n",
              "      background-color: #3B4455;\n",
              "      fill: #D2E3FC;\n",
              "    }\n",
              "\n",
              "    [theme=dark] .colab-df-convert:hover {\n",
              "      background-color: #434B5C;\n",
              "      box-shadow: 0px 1px 3px 1px rgba(0, 0, 0, 0.15);\n",
              "      filter: drop-shadow(0px 1px 2px rgba(0, 0, 0, 0.3));\n",
              "      fill: #FFFFFF;\n",
              "    }\n",
              "  </style>\n",
              "\n",
              "    <script>\n",
              "      const buttonEl =\n",
              "        document.querySelector('#df-08a454f8-a4e7-40d4-a44e-c753003a0215 button.colab-df-convert');\n",
              "      buttonEl.style.display =\n",
              "        google.colab.kernel.accessAllowed ? 'block' : 'none';\n",
              "\n",
              "      async function convertToInteractive(key) {\n",
              "        const element = document.querySelector('#df-08a454f8-a4e7-40d4-a44e-c753003a0215');\n",
              "        const dataTable =\n",
              "          await google.colab.kernel.invokeFunction('convertToInteractive',\n",
              "                                                    [key], {});\n",
              "        if (!dataTable) return;\n",
              "\n",
              "        const docLinkHtml = 'Like what you see? Visit the ' +\n",
              "          '<a target=\"_blank\" href=https://colab.research.google.com/notebooks/data_table.ipynb>data table notebook</a>'\n",
              "          + ' to learn more about interactive tables.';\n",
              "        element.innerHTML = '';\n",
              "        dataTable['output_type'] = 'display_data';\n",
              "        await google.colab.output.renderOutput(dataTable, element);\n",
              "        const docLink = document.createElement('div');\n",
              "        docLink.innerHTML = docLinkHtml;\n",
              "        element.appendChild(docLink);\n",
              "      }\n",
              "    </script>\n",
              "  </div>\n",
              "\n",
              "\n",
              "<div id=\"df-176396e2-ab1e-404c-b67a-780b02d4780f\">\n",
              "  <button class=\"colab-df-quickchart\" onclick=\"quickchart('df-176396e2-ab1e-404c-b67a-780b02d4780f')\"\n",
              "            title=\"Suggest charts\"\n",
              "            style=\"display:none;\">\n",
              "\n",
              "<svg xmlns=\"http://www.w3.org/2000/svg\" height=\"24px\"viewBox=\"0 0 24 24\"\n",
              "     width=\"24px\">\n",
              "    <g>\n",
              "        <path d=\"M19 3H5c-1.1 0-2 .9-2 2v14c0 1.1.9 2 2 2h14c1.1 0 2-.9 2-2V5c0-1.1-.9-2-2-2zM9 17H7v-7h2v7zm4 0h-2V7h2v10zm4 0h-2v-4h2v4z\"/>\n",
              "    </g>\n",
              "</svg>\n",
              "  </button>\n",
              "\n",
              "<style>\n",
              "  .colab-df-quickchart {\n",
              "      --bg-color: #E8F0FE;\n",
              "      --fill-color: #1967D2;\n",
              "      --hover-bg-color: #E2EBFA;\n",
              "      --hover-fill-color: #174EA6;\n",
              "      --disabled-fill-color: #AAA;\n",
              "      --disabled-bg-color: #DDD;\n",
              "  }\n",
              "\n",
              "  [theme=dark] .colab-df-quickchart {\n",
              "      --bg-color: #3B4455;\n",
              "      --fill-color: #D2E3FC;\n",
              "      --hover-bg-color: #434B5C;\n",
              "      --hover-fill-color: #FFFFFF;\n",
              "      --disabled-bg-color: #3B4455;\n",
              "      --disabled-fill-color: #666;\n",
              "  }\n",
              "\n",
              "  .colab-df-quickchart {\n",
              "    background-color: var(--bg-color);\n",
              "    border: none;\n",
              "    border-radius: 50%;\n",
              "    cursor: pointer;\n",
              "    display: none;\n",
              "    fill: var(--fill-color);\n",
              "    height: 32px;\n",
              "    padding: 0;\n",
              "    width: 32px;\n",
              "  }\n",
              "\n",
              "  .colab-df-quickchart:hover {\n",
              "    background-color: var(--hover-bg-color);\n",
              "    box-shadow: 0 1px 2px rgba(60, 64, 67, 0.3), 0 1px 3px 1px rgba(60, 64, 67, 0.15);\n",
              "    fill: var(--button-hover-fill-color);\n",
              "  }\n",
              "\n",
              "  .colab-df-quickchart-complete:disabled,\n",
              "  .colab-df-quickchart-complete:disabled:hover {\n",
              "    background-color: var(--disabled-bg-color);\n",
              "    fill: var(--disabled-fill-color);\n",
              "    box-shadow: none;\n",
              "  }\n",
              "\n",
              "  .colab-df-spinner {\n",
              "    border: 2px solid var(--fill-color);\n",
              "    border-color: transparent;\n",
              "    border-bottom-color: var(--fill-color);\n",
              "    animation:\n",
              "      spin 1s steps(1) infinite;\n",
              "  }\n",
              "\n",
              "  @keyframes spin {\n",
              "    0% {\n",
              "      border-color: transparent;\n",
              "      border-bottom-color: var(--fill-color);\n",
              "      border-left-color: var(--fill-color);\n",
              "    }\n",
              "    20% {\n",
              "      border-color: transparent;\n",
              "      border-left-color: var(--fill-color);\n",
              "      border-top-color: var(--fill-color);\n",
              "    }\n",
              "    30% {\n",
              "      border-color: transparent;\n",
              "      border-left-color: var(--fill-color);\n",
              "      border-top-color: var(--fill-color);\n",
              "      border-right-color: var(--fill-color);\n",
              "    }\n",
              "    40% {\n",
              "      border-color: transparent;\n",
              "      border-right-color: var(--fill-color);\n",
              "      border-top-color: var(--fill-color);\n",
              "    }\n",
              "    60% {\n",
              "      border-color: transparent;\n",
              "      border-right-color: var(--fill-color);\n",
              "    }\n",
              "    80% {\n",
              "      border-color: transparent;\n",
              "      border-right-color: var(--fill-color);\n",
              "      border-bottom-color: var(--fill-color);\n",
              "    }\n",
              "    90% {\n",
              "      border-color: transparent;\n",
              "      border-bottom-color: var(--fill-color);\n",
              "    }\n",
              "  }\n",
              "</style>\n",
              "\n",
              "  <script>\n",
              "    async function quickchart(key) {\n",
              "      const quickchartButtonEl =\n",
              "        document.querySelector('#' + key + ' button');\n",
              "      quickchartButtonEl.disabled = true;  // To prevent multiple clicks.\n",
              "      quickchartButtonEl.classList.add('colab-df-spinner');\n",
              "      try {\n",
              "        const charts = await google.colab.kernel.invokeFunction(\n",
              "            'suggestCharts', [key], {});\n",
              "      } catch (error) {\n",
              "        console.error('Error during call to suggestCharts:', error);\n",
              "      }\n",
              "      quickchartButtonEl.classList.remove('colab-df-spinner');\n",
              "      quickchartButtonEl.classList.add('colab-df-quickchart-complete');\n",
              "    }\n",
              "    (() => {\n",
              "      let quickchartButtonEl =\n",
              "        document.querySelector('#df-176396e2-ab1e-404c-b67a-780b02d4780f button');\n",
              "      quickchartButtonEl.style.display =\n",
              "        google.colab.kernel.accessAllowed ? 'block' : 'none';\n",
              "    })();\n",
              "  </script>\n",
              "</div>\n",
              "\n",
              "  <div id=\"id_d9fe4f6e-384d-4092-905c-77ce0eb35b8f\">\n",
              "    <style>\n",
              "      .colab-df-generate {\n",
              "        background-color: #E8F0FE;\n",
              "        border: none;\n",
              "        border-radius: 50%;\n",
              "        cursor: pointer;\n",
              "        display: none;\n",
              "        fill: #1967D2;\n",
              "        height: 32px;\n",
              "        padding: 0 0 0 0;\n",
              "        width: 32px;\n",
              "      }\n",
              "\n",
              "      .colab-df-generate:hover {\n",
              "        background-color: #E2EBFA;\n",
              "        box-shadow: 0px 1px 2px rgba(60, 64, 67, 0.3), 0px 1px 3px 1px rgba(60, 64, 67, 0.15);\n",
              "        fill: #174EA6;\n",
              "      }\n",
              "\n",
              "      [theme=dark] .colab-df-generate {\n",
              "        background-color: #3B4455;\n",
              "        fill: #D2E3FC;\n",
              "      }\n",
              "\n",
              "      [theme=dark] .colab-df-generate:hover {\n",
              "        background-color: #434B5C;\n",
              "        box-shadow: 0px 1px 3px 1px rgba(0, 0, 0, 0.15);\n",
              "        filter: drop-shadow(0px 1px 2px rgba(0, 0, 0, 0.3));\n",
              "        fill: #FFFFFF;\n",
              "      }\n",
              "    </style>\n",
              "    <button class=\"colab-df-generate\" onclick=\"generateWithVariable('mismatch_df')\"\n",
              "            title=\"Generate code using this dataframe.\"\n",
              "            style=\"display:none;\">\n",
              "\n",
              "  <svg xmlns=\"http://www.w3.org/2000/svg\" height=\"24px\"viewBox=\"0 0 24 24\"\n",
              "       width=\"24px\">\n",
              "    <path d=\"M7,19H8.4L18.45,9,17,7.55,7,17.6ZM5,21V16.75L18.45,3.32a2,2,0,0,1,2.83,0l1.4,1.43a1.91,1.91,0,0,1,.58,1.4,1.91,1.91,0,0,1-.58,1.4L9.25,21ZM18.45,9,17,7.55Zm-12,3A5.31,5.31,0,0,0,4.9,8.1,5.31,5.31,0,0,0,1,6.5,5.31,5.31,0,0,0,4.9,4.9,5.31,5.31,0,0,0,6.5,1,5.31,5.31,0,0,0,8.1,4.9,5.31,5.31,0,0,0,12,6.5,5.46,5.46,0,0,0,6.5,12Z\"/>\n",
              "  </svg>\n",
              "    </button>\n",
              "    <script>\n",
              "      (() => {\n",
              "      const buttonEl =\n",
              "        document.querySelector('#id_d9fe4f6e-384d-4092-905c-77ce0eb35b8f button.colab-df-generate');\n",
              "      buttonEl.style.display =\n",
              "        google.colab.kernel.accessAllowed ? 'block' : 'none';\n",
              "\n",
              "      buttonEl.onclick = () => {\n",
              "        google.colab.notebook.generateWithVariable('mismatch_df');\n",
              "      }\n",
              "      })();\n",
              "    </script>\n",
              "  </div>\n",
              "\n",
              "    </div>\n",
              "  </div>\n"
            ],
            "application/vnd.google.colaboratory.intrinsic+json": {
              "type": "dataframe",
              "variable_name": "mismatch_df",
              "summary": "{\n  \"name\": \"mismatch_df\",\n  \"rows\": 9,\n  \"fields\": [\n    {\n      \"column\": \"label\",\n      \"properties\": {\n        \"dtype\": \"string\",\n        \"num_unique_values\": 5,\n        \"samples\": [\n          \"marketing_advertising\",\n          \"retail_hospitality\",\n          \"drama_arts\"\n        ],\n        \"semantic_type\": \"\",\n        \"description\": \"\"\n      }\n    },\n    {\n      \"column\": \"text\",\n      \"properties\": {\n        \"dtype\": \"string\",\n        \"num_unique_values\": 9,\n        \"samples\": [\n          \"UX/UI Designer\",\n          \"Data Analyst\",\n          \"Box Office Assistant\"\n        ],\n        \"semantic_type\": \"\",\n        \"description\": \"\"\n      }\n    },\n    {\n      \"column\": \"predicted_label\",\n      \"properties\": {\n        \"dtype\": \"string\",\n        \"num_unique_values\": 5,\n        \"samples\": [\n          \"retail_hospitality\",\n          \"drama_arts\",\n          \"marketing_advertising\"\n        ],\n        \"semantic_type\": \"\",\n        \"description\": \"\"\n      }\n    },\n    {\n      \"column\": \"best_prob\",\n      \"properties\": {\n        \"dtype\": \"number\",\n        \"std\": 0.1102396379610246,\n        \"min\": 0.6,\n        \"max\": 0.95,\n        \"num_unique_values\": 4,\n        \"samples\": [\n          0.9,\n          0.95,\n          0.8\n        ],\n        \"semantic_type\": \"\",\n        \"description\": \"\"\n      }\n    },\n    {\n      \"column\": \"industry_second\",\n      \"properties\": {\n        \"dtype\": \"string\",\n        \"num_unique_values\": 6,\n        \"samples\": [\n          \"education\",\n          \"finance\",\n          \"retail_hospitality\"\n        ],\n        \"semantic_type\": \"\",\n        \"description\": \"\"\n      }\n    },\n    {\n      \"column\": \"second_prob\",\n      \"properties\": {\n        \"dtype\": \"number\",\n        \"std\": 0.2820017730440715,\n        \"min\": 0.04,\n        \"max\": 0.7,\n        \"num_unique_values\": 6,\n        \"samples\": [\n          0.6,\n          0.7,\n          0.04\n        ],\n        \"semantic_type\": \"\",\n        \"description\": \"\"\n      }\n    }\n  ]\n}"
            }
          },
          "metadata": {},
          "execution_count": 29
        }
      ]
    },
    {
      "cell_type": "markdown",
      "source": [
        "We can see most of these predictions are fairly confident, showing there are still limitations at this time, but the technology is constantly improving to close the gap."
      ],
      "metadata": {
        "id": "iblcgLZnOSoR"
      }
    },
    {
      "cell_type": "markdown",
      "source": [
        "## Conclusion"
      ],
      "metadata": {
        "id": "Pvwyk0ABHQ2w"
      }
    },
    {
      "cell_type": "markdown",
      "source": [
        "On its own, GPT-3.5 with assistants was able to improve its accuracy score to 94% from 90.5%. This is a nice boost as we get closer to 100% accuracy. With the user intervention, we were able to further boost performance to 95.5%. This means GPT mislabeled with confidence (or at least past our confidence threshold for user intervention) only 4.5% of the items in the list. While this entire process took about an hour to complete, significantly longer than the previous study, the utlization of assistants may be important for certain use cases. For this simple task, maybe not so much, but perhaps in your real-world application accuracy is paramount and it is well worth applying the extra time and resources.\n",
        "\n",
        "Assistants are still very new to the world of AI as of the time of this writing, and it is assumed they will continue to improve and incorporate more tools and capabilities. It is important to be able to utilize these resources in order to get the absolute most out of AI and stay ahead of the curve. While this study concludes our time applying AI tools and methods for text classification on a small dataset, we will continue publishing studies in the ever expanding world of AI and hope to continue providing insight to our readers."
      ],
      "metadata": {
        "id": "J5-FO3TM0RXi"
      }
    },
    {
      "cell_type": "markdown",
      "source": [
        "\n",
        "As a reminder, this series is meant to be a survey of techniques for improving performance of NLP classification tasks with small datasets.\n",
        "\n",
        "Stay tuned for more case studies like this one and if there is something you would like to chat about, feel free to reach out at:\n",
        "\n",
        "shane@stelerivers.com"
      ],
      "metadata": {
        "id": "0rauRPRn2baA"
      }
    }
  ]
}